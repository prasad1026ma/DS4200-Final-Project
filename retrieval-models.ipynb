{
  "nbformat": 4,
  "nbformat_minor": 0,
  "metadata": {
    "colab": {
      "provenance": [],
      "include_colab_link": true
    },
    "kernelspec": {
      "name": "python3",
      "display_name": "Python 3"
    }
  },
  "cells": [
    {
      "cell_type": "markdown",
      "metadata": {
        "id": "view-in-github",
        "colab_type": "text"
      },
      "source": [
        "<a href=\"https://colab.research.google.com/github/prasad1026ma/DS4200-Final-Project/blob/main/retrieval-models.ipynb\" target=\"_parent\"><img src=\"https://colab.research.google.com/assets/colab-badge.svg\" alt=\"Open In Colab\"/></a>"
      ]
    },
    {
      "cell_type": "markdown",
      "metadata": {
        "id": "vUpmSFflwzR1"
      },
      "source": [
        "# Retrieval Models and Evaluation\n",
        "\n"
      ]
    },
    {
      "cell_type": "markdown",
      "metadata": {
        "id": "-2PzgU4YxIl3"
      },
      "source": [
        "In this notebook, you will evaluate results ranking on a test collection. First, you'll compute the mean average precision of a baseline BM25 model. Then you'll implement a query-likelihood retrieval model based on the same inverted index.\n",
        "\n",
        "This notebook uses the [Pyserini](http://pyserini.io/) library, a Python interface to [Anserini](http://anserini.io) and thus to [Lucene](https://lucene.apache.org/), a widely-used open-source search engine. This library is written and maintained by Jimmy Lin and his colleagues at the University of Waterloo.\n"
      ]
    },
    {
      "cell_type": "markdown",
      "metadata": {
        "id": "f2vNd7bpJlDZ"
      },
      "source": [
        "We start by installing the python interface. Since it calls the underlying Lucene search engine, we make sure we point to an appropriate Java installation. If you don't have Java 21, this would need to be changed."
      ]
    },
    {
      "cell_type": "code",
      "source": [
        "## Uncomment the following code to install Java 21 on Colab\n",
        "!apt-get install openjdk-21-jre-headless -qq > /dev/null\n",
        "import os\n",
        "os.environ[\"JAVA_HOME\"] = \"/usr/lib/jvm/java-21-openjdk-amd64\"\n",
        "!update-alternatives --set java /usr/lib/jvm/java-21-openjdk-amd64/bin/java\n",
        "!java -version"
      ],
      "metadata": {
        "colab": {
          "base_uri": "https://localhost:8080/"
        },
        "id": "nBDwrCizYdak",
        "outputId": "6de162f4-30b3-490d-85d5-4632fe162a3d"
      },
      "execution_count": 2,
      "outputs": [
        {
          "output_type": "stream",
          "name": "stdout",
          "text": [
            "openjdk version \"21.0.4\" 2024-07-16\n",
            "OpenJDK Runtime Environment (build 21.0.4+7-Ubuntu-1ubuntu222.04)\n",
            "OpenJDK 64-Bit Server VM (build 21.0.4+7-Ubuntu-1ubuntu222.04, mixed mode, sharing)\n"
          ]
        }
      ]
    },
    {
      "cell_type": "code",
      "metadata": {
        "id": "E_lt0-pXJia0",
        "colab": {
          "base_uri": "https://localhost:8080/"
        },
        "outputId": "f84d83ee-a72b-4322-83ba-c7ad2dc04c02"
      },
      "source": [
        "!pip install pyserini\n",
        "# You can change this to gpu if you have one.\n",
        "# It's a pyserini dependency, but we won't need it until the next assignment.\n",
        "!pip install faiss-cpu"
      ],
      "execution_count": 3,
      "outputs": [
        {
          "output_type": "stream",
          "name": "stdout",
          "text": [
            "Collecting pyserini\n",
            "  Downloading pyserini-0.40.0-py3-none-any.whl.metadata (5.8 kB)\n",
            "Requirement already satisfied: tqdm in /usr/local/lib/python3.10/dist-packages (from pyserini) (4.66.6)\n",
            "Requirement already satisfied: pyyaml in /usr/local/lib/python3.10/dist-packages (from pyserini) (6.0.2)\n",
            "Requirement already satisfied: requests in /usr/local/lib/python3.10/dist-packages (from pyserini) (2.32.3)\n",
            "Requirement already satisfied: Cython>=0.29.21 in /usr/local/lib/python3.10/dist-packages (from pyserini) (3.0.11)\n",
            "Requirement already satisfied: numpy>=1.18.1 in /usr/local/lib/python3.10/dist-packages (from pyserini) (1.26.4)\n",
            "Requirement already satisfied: pandas>=1.4.0 in /usr/local/lib/python3.10/dist-packages (from pyserini) (2.2.2)\n",
            "Collecting pyjnius>=1.6.0 (from pyserini)\n",
            "  Downloading pyjnius-1.6.1-cp310-cp310-manylinux_2_17_x86_64.manylinux2014_x86_64.whl.metadata (10 kB)\n",
            "Requirement already satisfied: scikit-learn>=0.22.1 in /usr/local/lib/python3.10/dist-packages (from pyserini) (1.5.2)\n",
            "Requirement already satisfied: scipy>=1.4.1 in /usr/local/lib/python3.10/dist-packages (from pyserini) (1.13.1)\n",
            "Requirement already satisfied: transformers>=4.6.0 in /usr/local/lib/python3.10/dist-packages (from pyserini) (4.44.2)\n",
            "Requirement already satisfied: torch>=2.0.0 in /usr/local/lib/python3.10/dist-packages (from pyserini) (2.5.0+cu121)\n",
            "Collecting onnxruntime>=1.8.1 (from pyserini)\n",
            "  Downloading onnxruntime-1.20.0-cp310-cp310-manylinux_2_27_x86_64.manylinux_2_28_x86_64.whl.metadata (4.4 kB)\n",
            "Requirement already satisfied: openai>=1.0.0 in /usr/local/lib/python3.10/dist-packages (from pyserini) (1.52.2)\n",
            "Requirement already satisfied: sentencepiece>=0.2 in /usr/local/lib/python3.10/dist-packages (from pyserini) (0.2.0)\n",
            "Collecting tiktoken>=0.4.0 (from pyserini)\n",
            "  Downloading tiktoken-0.8.0-cp310-cp310-manylinux_2_17_x86_64.manylinux2014_x86_64.whl.metadata (6.6 kB)\n",
            "Collecting flask>3.0 (from pyserini)\n",
            "  Downloading flask-3.0.3-py3-none-any.whl.metadata (3.2 kB)\n",
            "Requirement already satisfied: pillow>=10.2.0 in /usr/local/lib/python3.10/dist-packages (from pyserini) (10.4.0)\n",
            "INFO: pip is looking at multiple versions of pyserini to determine which version is compatible with other requirements. This could take a while.\n",
            "Collecting pyserini\n",
            "  Downloading pyserini-0.39.0-py3-none-any.whl.metadata (5.7 kB)\n",
            "Collecting nmslib>=2.0.6 (from pyserini)\n",
            "  Downloading nmslib-2.1.1.tar.gz (188 kB)\n",
            "\u001b[2K     \u001b[90m━━━━━━━━━━━━━━━━━━━━━━━━━━━━━━━━━━━━━━━━\u001b[0m \u001b[32m188.7/188.7 kB\u001b[0m \u001b[31m11.0 MB/s\u001b[0m eta \u001b[36m0:00:00\u001b[0m\n",
            "\u001b[?25h  Preparing metadata (setup.py) ... \u001b[?25l\u001b[?25hdone\n",
            "Requirement already satisfied: lightgbm>=3.3.2 in /usr/local/lib/python3.10/dist-packages (from pyserini) (4.5.0)\n",
            "Requirement already satisfied: spacy>=3.2.1 in /usr/local/lib/python3.10/dist-packages (from pyserini) (3.7.5)\n",
            "Requirement already satisfied: pyarrow>=15.0.0 in /usr/local/lib/python3.10/dist-packages (from pyserini) (17.0.0)\n",
            "Collecting pybind11>=2.11.0 (from pyserini)\n",
            "  Downloading pybind11-2.13.6-py3-none-any.whl.metadata (9.5 kB)\n",
            "INFO: pip is looking at multiple versions of nmslib to determine which version is compatible with other requirements. This could take a while.\n",
            "Collecting nmslib>=2.0.6 (from pyserini)\n",
            "  Downloading nmslib-2.0.6.tar.gz (182 kB)\n",
            "\u001b[2K     \u001b[90m━━━━━━━━━━━━━━━━━━━━━━━━━━━━━━━━━━━━━━━━\u001b[0m \u001b[32m182.4/182.4 kB\u001b[0m \u001b[31m14.8 MB/s\u001b[0m eta \u001b[36m0:00:00\u001b[0m\n",
            "\u001b[?25h  Preparing metadata (setup.py) ... \u001b[?25l\u001b[?25hdone\n",
            "Requirement already satisfied: psutil in /usr/local/lib/python3.10/dist-packages (from nmslib>=2.0.6->pyserini) (5.9.5)\n",
            "Collecting coloredlogs (from onnxruntime>=1.8.1->pyserini)\n",
            "  Downloading coloredlogs-15.0.1-py2.py3-none-any.whl.metadata (12 kB)\n",
            "Requirement already satisfied: flatbuffers in /usr/local/lib/python3.10/dist-packages (from onnxruntime>=1.8.1->pyserini) (24.3.25)\n",
            "Requirement already satisfied: packaging in /usr/local/lib/python3.10/dist-packages (from onnxruntime>=1.8.1->pyserini) (24.1)\n",
            "Requirement already satisfied: protobuf in /usr/local/lib/python3.10/dist-packages (from onnxruntime>=1.8.1->pyserini) (3.20.3)\n",
            "Requirement already satisfied: sympy in /usr/local/lib/python3.10/dist-packages (from onnxruntime>=1.8.1->pyserini) (1.13.1)\n",
            "Requirement already satisfied: anyio<5,>=3.5.0 in /usr/local/lib/python3.10/dist-packages (from openai>=1.0.0->pyserini) (3.7.1)\n",
            "Requirement already satisfied: distro<2,>=1.7.0 in /usr/local/lib/python3.10/dist-packages (from openai>=1.0.0->pyserini) (1.9.0)\n",
            "Requirement already satisfied: httpx<1,>=0.23.0 in /usr/local/lib/python3.10/dist-packages (from openai>=1.0.0->pyserini) (0.27.2)\n",
            "Requirement already satisfied: jiter<1,>=0.4.0 in /usr/local/lib/python3.10/dist-packages (from openai>=1.0.0->pyserini) (0.6.1)\n",
            "Requirement already satisfied: pydantic<3,>=1.9.0 in /usr/local/lib/python3.10/dist-packages (from openai>=1.0.0->pyserini) (2.9.2)\n",
            "Requirement already satisfied: sniffio in /usr/local/lib/python3.10/dist-packages (from openai>=1.0.0->pyserini) (1.3.1)\n",
            "Requirement already satisfied: typing-extensions<5,>=4.11 in /usr/local/lib/python3.10/dist-packages (from openai>=1.0.0->pyserini) (4.12.2)\n",
            "Requirement already satisfied: python-dateutil>=2.8.2 in /usr/local/lib/python3.10/dist-packages (from pandas>=1.4.0->pyserini) (2.8.2)\n",
            "Requirement already satisfied: pytz>=2020.1 in /usr/local/lib/python3.10/dist-packages (from pandas>=1.4.0->pyserini) (2024.2)\n",
            "Requirement already satisfied: tzdata>=2022.7 in /usr/local/lib/python3.10/dist-packages (from pandas>=1.4.0->pyserini) (2024.2)\n",
            "Requirement already satisfied: joblib>=1.2.0 in /usr/local/lib/python3.10/dist-packages (from scikit-learn>=0.22.1->pyserini) (1.4.2)\n",
            "Requirement already satisfied: threadpoolctl>=3.1.0 in /usr/local/lib/python3.10/dist-packages (from scikit-learn>=0.22.1->pyserini) (3.5.0)\n",
            "Requirement already satisfied: spacy-legacy<3.1.0,>=3.0.11 in /usr/local/lib/python3.10/dist-packages (from spacy>=3.2.1->pyserini) (3.0.12)\n",
            "Requirement already satisfied: spacy-loggers<2.0.0,>=1.0.0 in /usr/local/lib/python3.10/dist-packages (from spacy>=3.2.1->pyserini) (1.0.5)\n",
            "Requirement already satisfied: murmurhash<1.1.0,>=0.28.0 in /usr/local/lib/python3.10/dist-packages (from spacy>=3.2.1->pyserini) (1.0.10)\n",
            "Requirement already satisfied: cymem<2.1.0,>=2.0.2 in /usr/local/lib/python3.10/dist-packages (from spacy>=3.2.1->pyserini) (2.0.8)\n",
            "Requirement already satisfied: preshed<3.1.0,>=3.0.2 in /usr/local/lib/python3.10/dist-packages (from spacy>=3.2.1->pyserini) (3.0.9)\n",
            "Requirement already satisfied: thinc<8.3.0,>=8.2.2 in /usr/local/lib/python3.10/dist-packages (from spacy>=3.2.1->pyserini) (8.2.5)\n",
            "Requirement already satisfied: wasabi<1.2.0,>=0.9.1 in /usr/local/lib/python3.10/dist-packages (from spacy>=3.2.1->pyserini) (1.1.3)\n",
            "Requirement already satisfied: srsly<3.0.0,>=2.4.3 in /usr/local/lib/python3.10/dist-packages (from spacy>=3.2.1->pyserini) (2.4.8)\n",
            "Requirement already satisfied: catalogue<2.1.0,>=2.0.6 in /usr/local/lib/python3.10/dist-packages (from spacy>=3.2.1->pyserini) (2.0.10)\n",
            "Requirement already satisfied: weasel<0.5.0,>=0.1.0 in /usr/local/lib/python3.10/dist-packages (from spacy>=3.2.1->pyserini) (0.4.1)\n",
            "Requirement already satisfied: typer<1.0.0,>=0.3.0 in /usr/local/lib/python3.10/dist-packages (from spacy>=3.2.1->pyserini) (0.12.5)\n",
            "Requirement already satisfied: jinja2 in /usr/local/lib/python3.10/dist-packages (from spacy>=3.2.1->pyserini) (3.1.4)\n",
            "Requirement already satisfied: setuptools in /usr/local/lib/python3.10/dist-packages (from spacy>=3.2.1->pyserini) (75.1.0)\n",
            "Requirement already satisfied: langcodes<4.0.0,>=3.2.0 in /usr/local/lib/python3.10/dist-packages (from spacy>=3.2.1->pyserini) (3.4.1)\n",
            "Requirement already satisfied: regex>=2022.1.18 in /usr/local/lib/python3.10/dist-packages (from tiktoken>=0.4.0->pyserini) (2024.9.11)\n",
            "Requirement already satisfied: filelock in /usr/local/lib/python3.10/dist-packages (from transformers>=4.6.0->pyserini) (3.16.1)\n",
            "Requirement already satisfied: huggingface-hub<1.0,>=0.23.2 in /usr/local/lib/python3.10/dist-packages (from transformers>=4.6.0->pyserini) (0.24.7)\n",
            "Requirement already satisfied: safetensors>=0.4.1 in /usr/local/lib/python3.10/dist-packages (from transformers>=4.6.0->pyserini) (0.4.5)\n",
            "Requirement already satisfied: tokenizers<0.20,>=0.19 in /usr/local/lib/python3.10/dist-packages (from transformers>=4.6.0->pyserini) (0.19.1)\n",
            "Requirement already satisfied: idna>=2.8 in /usr/local/lib/python3.10/dist-packages (from anyio<5,>=3.5.0->openai>=1.0.0->pyserini) (3.10)\n",
            "Requirement already satisfied: exceptiongroup in /usr/local/lib/python3.10/dist-packages (from anyio<5,>=3.5.0->openai>=1.0.0->pyserini) (1.2.2)\n",
            "Requirement already satisfied: certifi in /usr/local/lib/python3.10/dist-packages (from httpx<1,>=0.23.0->openai>=1.0.0->pyserini) (2024.8.30)\n",
            "Requirement already satisfied: httpcore==1.* in /usr/local/lib/python3.10/dist-packages (from httpx<1,>=0.23.0->openai>=1.0.0->pyserini) (1.0.6)\n",
            "Requirement already satisfied: h11<0.15,>=0.13 in /usr/local/lib/python3.10/dist-packages (from httpcore==1.*->httpx<1,>=0.23.0->openai>=1.0.0->pyserini) (0.14.0)\n",
            "Requirement already satisfied: fsspec>=2023.5.0 in /usr/local/lib/python3.10/dist-packages (from huggingface-hub<1.0,>=0.23.2->transformers>=4.6.0->pyserini) (2024.10.0)\n",
            "Requirement already satisfied: language-data>=1.2 in /usr/local/lib/python3.10/dist-packages (from langcodes<4.0.0,>=3.2.0->spacy>=3.2.1->pyserini) (1.2.0)\n",
            "Requirement already satisfied: annotated-types>=0.6.0 in /usr/local/lib/python3.10/dist-packages (from pydantic<3,>=1.9.0->openai>=1.0.0->pyserini) (0.7.0)\n",
            "Requirement already satisfied: pydantic-core==2.23.4 in /usr/local/lib/python3.10/dist-packages (from pydantic<3,>=1.9.0->openai>=1.0.0->pyserini) (2.23.4)\n",
            "Requirement already satisfied: six>=1.5 in /usr/local/lib/python3.10/dist-packages (from python-dateutil>=2.8.2->pandas>=1.4.0->pyserini) (1.16.0)\n",
            "Requirement already satisfied: charset-normalizer<4,>=2 in /usr/local/lib/python3.10/dist-packages (from requests->pyserini) (3.4.0)\n",
            "Requirement already satisfied: urllib3<3,>=1.21.1 in /usr/local/lib/python3.10/dist-packages (from requests->pyserini) (2.2.3)\n",
            "Requirement already satisfied: blis<0.8.0,>=0.7.8 in /usr/local/lib/python3.10/dist-packages (from thinc<8.3.0,>=8.2.2->spacy>=3.2.1->pyserini) (0.7.11)\n",
            "Requirement already satisfied: confection<1.0.0,>=0.0.1 in /usr/local/lib/python3.10/dist-packages (from thinc<8.3.0,>=8.2.2->spacy>=3.2.1->pyserini) (0.1.5)\n",
            "Requirement already satisfied: click>=8.0.0 in /usr/local/lib/python3.10/dist-packages (from typer<1.0.0,>=0.3.0->spacy>=3.2.1->pyserini) (8.1.7)\n",
            "Requirement already satisfied: shellingham>=1.3.0 in /usr/local/lib/python3.10/dist-packages (from typer<1.0.0,>=0.3.0->spacy>=3.2.1->pyserini) (1.5.4)\n",
            "Requirement already satisfied: rich>=10.11.0 in /usr/local/lib/python3.10/dist-packages (from typer<1.0.0,>=0.3.0->spacy>=3.2.1->pyserini) (13.9.3)\n",
            "Requirement already satisfied: cloudpathlib<1.0.0,>=0.7.0 in /usr/local/lib/python3.10/dist-packages (from weasel<0.5.0,>=0.1.0->spacy>=3.2.1->pyserini) (0.20.0)\n",
            "Requirement already satisfied: smart-open<8.0.0,>=5.2.1 in /usr/local/lib/python3.10/dist-packages (from weasel<0.5.0,>=0.1.0->spacy>=3.2.1->pyserini) (7.0.5)\n",
            "Collecting humanfriendly>=9.1 (from coloredlogs->onnxruntime>=1.8.1->pyserini)\n",
            "  Downloading humanfriendly-10.0-py2.py3-none-any.whl.metadata (9.2 kB)\n",
            "Requirement already satisfied: MarkupSafe>=2.0 in /usr/local/lib/python3.10/dist-packages (from jinja2->spacy>=3.2.1->pyserini) (3.0.2)\n",
            "Requirement already satisfied: mpmath<1.4,>=1.1.0 in /usr/local/lib/python3.10/dist-packages (from sympy->onnxruntime>=1.8.1->pyserini) (1.3.0)\n",
            "Requirement already satisfied: marisa-trie>=0.7.7 in /usr/local/lib/python3.10/dist-packages (from language-data>=1.2->langcodes<4.0.0,>=3.2.0->spacy>=3.2.1->pyserini) (1.2.1)\n",
            "Requirement already satisfied: markdown-it-py>=2.2.0 in /usr/local/lib/python3.10/dist-packages (from rich>=10.11.0->typer<1.0.0,>=0.3.0->spacy>=3.2.1->pyserini) (3.0.0)\n",
            "Requirement already satisfied: pygments<3.0.0,>=2.13.0 in /usr/local/lib/python3.10/dist-packages (from rich>=10.11.0->typer<1.0.0,>=0.3.0->spacy>=3.2.1->pyserini) (2.18.0)\n",
            "Requirement already satisfied: wrapt in /usr/local/lib/python3.10/dist-packages (from smart-open<8.0.0,>=5.2.1->weasel<0.5.0,>=0.1.0->spacy>=3.2.1->pyserini) (1.16.0)\n",
            "Requirement already satisfied: mdurl~=0.1 in /usr/local/lib/python3.10/dist-packages (from markdown-it-py>=2.2.0->rich>=10.11.0->typer<1.0.0,>=0.3.0->spacy>=3.2.1->pyserini) (0.1.2)\n",
            "Downloading pyserini-0.39.0-py3-none-any.whl (180.3 MB)\n",
            "\u001b[2K   \u001b[90m━━━━━━━━━━━━━━━━━━━━━━━━━━━━━━━━━━━━━━━━\u001b[0m \u001b[32m180.3/180.3 MB\u001b[0m \u001b[31m5.9 MB/s\u001b[0m eta \u001b[36m0:00:00\u001b[0m\n",
            "\u001b[?25hDownloading onnxruntime-1.20.0-cp310-cp310-manylinux_2_27_x86_64.manylinux_2_28_x86_64.whl (13.3 MB)\n",
            "\u001b[2K   \u001b[90m━━━━━━━━━━━━━━━━━━━━━━━━━━━━━━━━━━━━━━━━\u001b[0m \u001b[32m13.3/13.3 MB\u001b[0m \u001b[31m93.4 MB/s\u001b[0m eta \u001b[36m0:00:00\u001b[0m\n",
            "\u001b[?25hUsing cached pybind11-2.13.6-py3-none-any.whl (243 kB)\n",
            "Downloading pyjnius-1.6.1-cp310-cp310-manylinux_2_17_x86_64.manylinux2014_x86_64.whl (1.5 MB)\n",
            "\u001b[2K   \u001b[90m━━━━━━━━━━━━━━━━━━━━━━━━━━━━━━━━━━━━━━━━\u001b[0m \u001b[32m1.5/1.5 MB\u001b[0m \u001b[31m60.9 MB/s\u001b[0m eta \u001b[36m0:00:00\u001b[0m\n",
            "\u001b[?25hDownloading tiktoken-0.8.0-cp310-cp310-manylinux_2_17_x86_64.manylinux2014_x86_64.whl (1.2 MB)\n",
            "\u001b[2K   \u001b[90m━━━━━━━━━━━━━━━━━━━━━━━━━━━━━━━━━━━━━━━━\u001b[0m \u001b[32m1.2/1.2 MB\u001b[0m \u001b[31m51.6 MB/s\u001b[0m eta \u001b[36m0:00:00\u001b[0m\n",
            "\u001b[?25hDownloading coloredlogs-15.0.1-py2.py3-none-any.whl (46 kB)\n",
            "\u001b[2K   \u001b[90m━━━━━━━━━━━━━━━━━━━━━━━━━━━━━━━━━━━━━━━━\u001b[0m \u001b[32m46.0/46.0 kB\u001b[0m \u001b[31m3.3 MB/s\u001b[0m eta \u001b[36m0:00:00\u001b[0m\n",
            "\u001b[?25hDownloading humanfriendly-10.0-py2.py3-none-any.whl (86 kB)\n",
            "\u001b[2K   \u001b[90m━━━━━━━━━━━━━━━━━━━━━━━━━━━━━━━━━━━━━━━━\u001b[0m \u001b[32m86.8/86.8 kB\u001b[0m \u001b[31m6.7 MB/s\u001b[0m eta \u001b[36m0:00:00\u001b[0m\n",
            "\u001b[?25hBuilding wheels for collected packages: nmslib\n",
            "  Building wheel for nmslib (setup.py) ... \u001b[?25l\u001b[?25hdone\n",
            "  Created wheel for nmslib: filename=nmslib-2.0.6-cp310-cp310-linux_x86_64.whl size=13416754 sha256=1afeffec8085677fc5f1a28e9d60699281a6dffa3e9f75b001f0bebacd79d404\n",
            "  Stored in directory: /root/.cache/pip/wheels/3f/1d/9a/46518f2d45f6c7bd1776c699db1229de404661db2287914df3\n",
            "Successfully built nmslib\n",
            "Installing collected packages: pyjnius, pybind11, humanfriendly, tiktoken, nmslib, coloredlogs, onnxruntime, pyserini\n",
            "Successfully installed coloredlogs-15.0.1 humanfriendly-10.0 nmslib-2.0.6 onnxruntime-1.20.0 pybind11-2.13.6 pyjnius-1.6.1 pyserini-0.39.0 tiktoken-0.8.0\n",
            "Collecting faiss-cpu\n",
            "  Downloading faiss_cpu-1.9.0-cp310-cp310-manylinux_2_17_x86_64.manylinux2014_x86_64.whl.metadata (4.4 kB)\n",
            "Requirement already satisfied: numpy<3.0,>=1.25.0 in /usr/local/lib/python3.10/dist-packages (from faiss-cpu) (1.26.4)\n",
            "Requirement already satisfied: packaging in /usr/local/lib/python3.10/dist-packages (from faiss-cpu) (24.1)\n",
            "Downloading faiss_cpu-1.9.0-cp310-cp310-manylinux_2_17_x86_64.manylinux2014_x86_64.whl (27.5 MB)\n",
            "\u001b[2K   \u001b[90m━━━━━━━━━━━━━━━━━━━━━━━━━━━━━━━━━━━━━━━━\u001b[0m \u001b[32m27.5/27.5 MB\u001b[0m \u001b[31m63.8 MB/s\u001b[0m eta \u001b[36m0:00:00\u001b[0m\n",
            "\u001b[?25hInstalling collected packages: faiss-cpu\n",
            "Successfully installed faiss-cpu-1.9.0\n"
          ]
        }
      ]
    },
    {
      "cell_type": "markdown",
      "metadata": {
        "id": "NkD0kKxW9mHP"
      },
      "source": [
        "You can use the `LuceneSearcher` to search over an index. We can initialize the searcher with a pre-built index, which Pyserini will automatically download if it hasn't already:"
      ]
    },
    {
      "cell_type": "code",
      "metadata": {
        "id": "zVoAZvuAI_la",
        "colab": {
          "base_uri": "https://localhost:8080/"
        },
        "outputId": "75552924-af0c-4739-e941-544b69542cd2"
      },
      "source": [
        "from pyserini.search.lucene import LuceneSearcher\n",
        "\n",
        "searcher = LuceneSearcher.from_prebuilt_index('robust04')"
      ],
      "execution_count": 4,
      "outputs": [
        {
          "output_type": "stream",
          "name": "stdout",
          "text": [
            "Downloading index at https://rgw.cs.uwaterloo.ca/pyserini/indexes/lucene/lucene-inverted.disk45.20240803.36f7e3.tar.gz...\n"
          ]
        },
        {
          "output_type": "stream",
          "name": "stderr",
          "text": [
            "lucene-inverted.disk45.20240803.36f7e3.tar.gz: 1.66GB [00:57, 31.2MB/s]                            \n"
          ]
        }
      ]
    },
    {
      "cell_type": "markdown",
      "metadata": {
        "id": "N6xHyonHJDKy"
      },
      "source": [
        "Now we can search for a query and inspect the results:"
      ]
    },
    {
      "cell_type": "code",
      "metadata": {
        "id": "yFZlcqEX0t1f",
        "colab": {
          "base_uri": "https://localhost:8080/"
        },
        "outputId": "8706f6f8-25fb-4103-ddf2-d9ad4c1d9747"
      },
      "source": [
        "hits = searcher.search('black bear attacks', 1000)\n",
        "\n",
        "# Prints the first 10 hits\n",
        "for i in range(0, 10):\n",
        "    print(f'{i+1:2} {hits[i].docid:15} {hits[i].score:.5f}')"
      ],
      "execution_count": 5,
      "outputs": [
        {
          "output_type": "stream",
          "name": "stdout",
          "text": [
            " 1 LA092790-0015   7.06680\n",
            " 2 LA081689-0039   6.89020\n",
            " 3 FBIS4-16530     6.61630\n",
            " 4 LA102589-0076   6.46450\n",
            " 5 FT932-15491     6.25090\n",
            " 6 FBIS3-12276     6.24630\n",
            " 7 LA091090-0085   6.17030\n",
            " 8 FT922-13519     6.04270\n",
            " 9 LA052790-0205   5.94060\n",
            "10 LA103089-0041   5.90650\n"
          ]
        }
      ]
    },
    {
      "cell_type": "markdown",
      "metadata": {
        "id": "emoSTga_7fOB"
      },
      "source": [
        "The `IndexReaderUtils` class provides various methods to read the index directly. For example, we can fetch a raw document from the index given its `docid`:"
      ]
    },
    {
      "cell_type": "code",
      "metadata": {
        "id": "N5ApT1YG71mz",
        "colab": {
          "base_uri": "https://localhost:8080/",
          "height": 599
        },
        "outputId": "e7ff6e5a-2bf5-4c7c-d762-6f7c82aba909"
      },
      "source": [
        "from pyserini.index import IndexReader\n",
        "from IPython.core.display import display, HTML\n",
        "\n",
        "reader = IndexReader.from_prebuilt_index('robust04')\n",
        "\n",
        "doc = reader.doc('LA092790-0015').raw()\n",
        "display(HTML('<div style=\"font-family: Times New Roman; padding-bottom:10px\">' + doc + '</div>'))"
      ],
      "execution_count": 6,
      "outputs": [
        {
          "output_type": "display_data",
          "data": {
            "text/plain": [
              "<IPython.core.display.HTML object>"
            ],
            "text/html": [
              "<div style=\"font-family: Times New Roman; padding-bottom:10px\"><DATE>\n",
              "<P>\n",
              "September 27, 1990, Thursday, Ventura County Edition\n",
              "</P>\n",
              "</DATE>\n",
              "<HEADLINE>\n",
              "<P>\n",
              "HUNGRY WILDLIFE STRAYING INTO SUBURBS;\n",
              "</P>\n",
              "<P>\n",
              "DROUGHT: FOUR DRY YEARS HAVE PARCHED NATIVE VEGETATION, FORCING BOBCATS, BEARS,\n",
              "MOUNTAIN LIONS, DEER AND COYOTES TO FORAGE CLOSER TO INHABITED AREAS.\n",
              "</P>\n",
              "</HEADLINE>\n",
              "<TEXT>\n",
              "<P>\n",
              "Hungry bobcats, bears and mountain lions -- unable to find food in Ventura\n",
              "County's drought-parched forests -- are being pushed out of their natural\n",
              "habitats to scavenge in rural communities, game officials said Wednesday.\n",
              "</P>\n",
              "<P>\n",
              "Two weeks ago, a black bear ripped the door off a trailer home in Rose Valley\n",
              "just north of Ojai. And within the past month, there have been several reports\n",
              "of mountain lions eating livestock near Los Padres National Forest. Several\n",
              "bobcats have been reported near houses in the Ojai Valley.\n",
              "</P>\n",
              "<P>\n",
              "Authorities say that over the past two years they have received twice the\n",
              "complaints -- about 20 a month -- of wild animals in populated areas. The\n",
              "drought is now in its fourth year in California.\n",
              "</P>\n",
              "<P>\n",
              "\"We've been having more and more conflicts with animals,\" said Capt. Roger\n",
              "Reese, with the state Department of Fish and Game. \"The fact is, it's very dry\n",
              "out there, and there just isn't a lot of food and water for them.\"\n",
              "</P>\n",
              "<P>\n",
              "Animal control officials say they are advising residents in rural areas to be\n",
              "aware of the problem. But so far, no one has been attacked by the wild animals,\n",
              "although there have been such attacks reported elsewhere in Southern\n",
              "California, authorities said.\n",
              "</P>\n",
              "<P>\n",
              "Coyotes have been running amok, officials said. Virtually all parts of the\n",
              "county except beach areas probably have been visited at one time or another by\n",
              "coyotes, said Kathy Jenks, director of the Ventura County Department of Animal\n",
              "Regulation.\n",
              "</P>\n",
              "<P>\n",
              "In Ventura, coyotes are often seen in Grant Park above City Hall, and in Arroyo\n",
              "Verde Park in the Ondulando district on the east side, Jenks said.\n",
              "</P>\n",
              "<P>\n",
              "Elsewhere, coyotes have been seen on streets in Thousand Oaks, Moorpark and\n",
              "Simi Valley. The rural, foothill developments are especially vulnerable, she\n",
              "said.\n",
              "</P>\n",
              "<P>\n",
              "Jenks said she advises residents to keep small pets inside, especially at\n",
              "night.\n",
              "</P>\n",
              "<P>\n",
              "There have even been a few cases in which brazen coyotes have attacked family\n",
              "animals in back yards, and a large number of house cats are disappearing,\n",
              "officials said.\n",
              "</P>\n",
              "<P>\n",
              "\"The common house cat is like a fancy feast for a coyote,\" she said. \"They're\n",
              "hungry, they're thirsty and they're coming down out of the hills.\"\n",
              "</P>\n",
              "<P>\n",
              "There have been a few reports of deer grazing in people's yards, Reese said.\n",
              "</P>\n",
              "<P>\n",
              "Traditionally, September is the worst month for wildlife, authorities said.\n",
              "</P>\n",
              "<P>\n",
              "\"It is usually the driest month,\" Reese said. \"And a lot of animals that have\n",
              "been raised in the spring leave their parents and go in search of food.\"\n",
              "</P>\n",
              "<P>\n",
              "More animals are expected to leave their natural habitats if the drought\n",
              "continues, officials said.\n",
              "</P>\n",
              "<P>\n",
              "\"I tell people who call that if we didn't have the big cats and the coyotes, we\n",
              "would be overrun by rodents,\" Jenks said. \"I would much rather hear a coyote in\n",
              "the distance than have roof rats.\"\n",
              "</P>\n",
              "<P>\n",
              "Don DeBusschere, who lives on a 45-acre walnut orchard in Happy Valley near\n",
              "Ojai, said his family has grown accustomed to wild animals. DeBusschere said he\n",
              "has seen scores of coyotes, several deer and a black bear.\n",
              "</P>\n",
              "<P>\n",
              "Recently, he said, two bobcats have moved into the trees on the edge of his\n",
              "property.\n",
              "</P>\n",
              "<P>\n",
              "\"They're not out to get humans,\" DeBusschere said. \"They're just trying to make\n",
              "a living off the land.\"\n",
              "</P>\n",
              "</TEXT></div>"
            ]
          },
          "metadata": {}
        }
      ]
    },
    {
      "cell_type": "markdown",
      "metadata": {
        "id": "1RMfMgWt8bgm"
      },
      "source": [
        "Note that the result is exactly the same as displaying the hit contents above. Given the raw text, we can obtain its analyzed form (i.e., tokenized, stemmed, stopwords removed, etc.). Here we show the first ten tokens:"
      ]
    },
    {
      "cell_type": "code",
      "metadata": {
        "id": "ZgNGM65F6m5h",
        "colab": {
          "base_uri": "https://localhost:8080/"
        },
        "outputId": "59982f18-5710-440b-c99f-4521d9b6c4c8"
      },
      "source": [
        "analyzed = reader.analyze(doc)\n",
        "analyzed[0:10]"
      ],
      "execution_count": 7,
      "outputs": [
        {
          "output_type": "execute_result",
          "data": {
            "text/plain": [
              "['date',\n",
              " 'p',\n",
              " 'septemb',\n",
              " '27',\n",
              " '1990',\n",
              " 'thursdai',\n",
              " 'ventura',\n",
              " 'counti',\n",
              " 'edit',\n",
              " 'p']"
            ]
          },
          "metadata": {},
          "execution_count": 7
        }
      ]
    },
    {
      "cell_type": "markdown",
      "metadata": {
        "id": "Z5OUXedN89Yf"
      },
      "source": [
        "The index also stores the raw document vector, which we can obtain as a Python dictionary of analyzed terms to counts (i.e., term frequency).\n",
        "For brevity, we only look at terms that appear more than once:"
      ]
    },
    {
      "cell_type": "code",
      "metadata": {
        "id": "mMtneeJw8HDI",
        "colab": {
          "base_uri": "https://localhost:8080/"
        },
        "outputId": "fceeea4a-ee35-4976-f62a-e388f36ff3bd"
      },
      "source": [
        "doc_vector = reader.get_document_vector('LA092790-0015')\n",
        "{ k: v for (k, v) in doc_vector.items() if v >1 }"
      ],
      "execution_count": 8,
      "outputs": [
        {
          "output_type": "execute_result",
          "data": {
            "text/plain": [
              "{'been': 11,\n",
              " 'habitat': 2,\n",
              " 'year': 3,\n",
              " 'jenk': 4,\n",
              " 'mountain': 3,\n",
              " 'rees': 3,\n",
              " 'would': 2,\n",
              " 'debusscher': 3,\n",
              " 'near': 3,\n",
              " 'hungri': 3,\n",
              " 'past': 2,\n",
              " 'especi': 2,\n",
              " 'wildlif': 2,\n",
              " 'lion': 3,\n",
              " 'ventura': 4,\n",
              " 'anim': 9,\n",
              " 'forest': 2,\n",
              " 'two': 3,\n",
              " 'seen': 3,\n",
              " 'attack': 3,\n",
              " 'black': 2,\n",
              " 'i': 2,\n",
              " 'food': 3,\n",
              " 'counti': 4,\n",
              " 'rural': 3,\n",
              " \"they'r\": 5,\n",
              " 'sever': 3,\n",
              " 'california': 2,\n",
              " 'advis': 2,\n",
              " 'parch': 2,\n",
              " 'area': 4,\n",
              " 'she': 3,\n",
              " 'month': 4,\n",
              " 'deer': 3,\n",
              " 'famili': 2,\n",
              " 'we': 2,\n",
              " 'peopl': 2,\n",
              " 'just': 3,\n",
              " 'live': 2,\n",
              " 'drought': 4,\n",
              " 'ha': 3,\n",
              " 'he': 2,\n",
              " 'hi': 2,\n",
              " 'septemb': 2,\n",
              " 'yard': 2,\n",
              " 'elsewher': 2,\n",
              " 'natur': 2,\n",
              " 'out': 4,\n",
              " 'lot': 2,\n",
              " 'have': 16,\n",
              " 'leav': 2,\n",
              " 'more': 3,\n",
              " 'off': 2,\n",
              " 'ojai': 3,\n",
              " 'report': 4,\n",
              " 'bobcat': 4,\n",
              " 'coyot': 10,\n",
              " 'few': 2,\n",
              " 'bear': 4,\n",
              " 'depart': 2,\n",
              " 'author': 3,\n",
              " 'dry': 2,\n",
              " 'vallei': 4,\n",
              " 'who': 2,\n",
              " 'game': 2,\n",
              " 'resid': 2,\n",
              " 'hous': 3,\n",
              " 'cat': 3,\n",
              " 'sai': 2,\n",
              " 'said': 19,\n",
              " 'park': 2,\n",
              " 'on': 2,\n",
              " 'offici': 5,\n",
              " 'wild': 3}"
            ]
          },
          "metadata": {},
          "execution_count": 8
        }
      ]
    },
    {
      "cell_type": "markdown",
      "source": [
        "## Evaluating Ranked Results\n",
        "\n",
        "We can load some standard evaluation sets such as Robust04, which contains 250 queries, or \"topics\" as the TREC conferences call them."
      ],
      "metadata": {
        "id": "GOFVMQKLyW1S"
      }
    },
    {
      "cell_type": "code",
      "source": [
        "from pyserini.search import get_topics\n",
        "topics = get_topics('robust04')\n",
        "print(f'{len(topics)} queries total')"
      ],
      "metadata": {
        "colab": {
          "base_uri": "https://localhost:8080/"
        },
        "id": "Q1sdhbDTdwqf",
        "outputId": "d4788658-dd6e-4013-bcbf-e314955239af"
      },
      "execution_count": 9,
      "outputs": [
        {
          "output_type": "stream",
          "name": "stdout",
          "text": [
            "250 queries total\n"
          ]
        }
      ]
    },
    {
      "cell_type": "markdown",
      "source": [
        "The topics are in a dictionary, whose keys are integers uniquely identifying each query. Each topic contains the following fields:\n",
        "\n",
        "* `title`: TREC's term for the brief query a user might actually type;\n",
        "* `description`: a longer form of the query in the form of a complete sentence; and\n",
        "* `narrative`: a description of what the user is looking for and what kinds of results would be relevant or non-relevant."
      ],
      "metadata": {
        "id": "RbODj6sezBvB"
      }
    },
    {
      "cell_type": "code",
      "source": [
        "topics[301]"
      ],
      "metadata": {
        "colab": {
          "base_uri": "https://localhost:8080/"
        },
        "id": "KBOeSkJxy-8R",
        "outputId": "9e78078c-a630-4baa-ad2b-39ad5f6d1dbf"
      },
      "execution_count": 10,
      "outputs": [
        {
          "output_type": "execute_result",
          "data": {
            "text/plain": [
              "{'narrative': 'A relevant document must as a minimum identify the organization and the type of illegal activity (e.g., Columbian cartel exporting cocaine). Vague references to international drug trade without identification of the organization(s) involved would not be relevant.',\n",
              " 'description': 'Identify organizations that participate in international criminal activity, the activity, and, if possible, collaborating organizations and the countries involved.',\n",
              " 'title': 'International Organized Crime'}"
            ]
          },
          "metadata": {},
          "execution_count": 10
        }
      ]
    },
    {
      "cell_type": "markdown",
      "source": [
        "For the purpose of your experiments, we'll divide them into a development and test set."
      ],
      "metadata": {
        "id": "gMbgbZVqyzdj"
      }
    },
    {
      "cell_type": "code",
      "source": [
        "dev_topics = {k:topics[k] for k in list(topics.keys())[:125]}\n",
        "test_topics = {k:topics[k] for k in list(topics.keys())[125:]}"
      ],
      "metadata": {
        "id": "LILkqQDqd3Tj"
      },
      "execution_count": 131,
      "outputs": []
    },
    {
      "cell_type": "markdown",
      "source": [
        "Now, we'll fetch the relevance judgments for the Robust04 queries, which TREC calls \"qrels\"."
      ],
      "metadata": {
        "id": "HTY9-DMyzuU5"
      }
    },
    {
      "cell_type": "code",
      "source": [
        "from urllib.request import urlopen\n",
        "\n",
        "qfile = 'https://github.com/castorini/anserini-tools/blob/63ceeab1dd94c1221f29b931d868e8fab67cc25c/topics-and-qrels/qrels.robust04.txt?raw=true'\n",
        "qrels = []\n",
        "for line in urlopen(qfile):\n",
        "  qid, round, docid, score = line.strip().split()\n",
        "  qrels.append([int(qid), 0, docid.decode('UTF-8'), int(score)])\n",
        "# qrels = [line.strip().split() for line in urlopen(qfile)]\n",
        "\n",
        "print(qrels[0:10])"
      ],
      "metadata": {
        "id": "b53vacvvf6fw",
        "colab": {
          "base_uri": "https://localhost:8080/"
        },
        "outputId": "3019b16a-39b6-469f-e227-bb7f651db558"
      },
      "execution_count": 92,
      "outputs": [
        {
          "output_type": "stream",
          "name": "stdout",
          "text": [
            "[[301, 0, 'FBIS3-10082', 1], [301, 0, 'FBIS3-10169', 0], [301, 0, 'FBIS3-10243', 1], [301, 0, 'FBIS3-10319', 0], [301, 0, 'FBIS3-10397', 1], [301, 0, 'FBIS3-10491', 1], [301, 0, 'FBIS3-10555', 0], [301, 0, 'FBIS3-10622', 1], [301, 0, 'FBIS3-10634', 0], [301, 0, 'FBIS3-10635', 0]]\n"
          ]
        }
      ]
    },
    {
      "cell_type": "markdown",
      "source": [
        "Each record in the qrel contains four fields:\n",
        "\n",
        "1. the numeric identifier of the query;\n",
        "2. the round of relevance feedback, which is here always 0;\n",
        "3. the identifier of a documennt that has been judged; and\n",
        "4. the relevance score of that document.\n",
        "\n",
        "In Robust04, all relevance judgments are binary, i.e., 1 or 0. Note that not all non-relevant documents are recorded. The qrel file only contains those documents the annotators actually looked at; the vast majority of documents in the collection have not been judged. In IR evaluation, we assume that unannotated documents are non-relevant."
      ],
      "metadata": {
        "id": "BXg8YO590Aky"
      }
    },
    {
      "cell_type": "markdown",
      "source": [
        "## Computing Mean Average Precision\n",
        "\n",
        "The Robust04 collection uses binary relevance judgments and usually has multiple relevant results for each query. It is thus common to use **mean average precision** (MAP) to evaluate retrieval performance on it. Remember from class that MAP adds the precision at the position of each _relevant_ document in a ranked list and then divides by the total number of relevant documents. So that we don't have to scan through the entire collection, we usually evaluate MAP at some maximum rank value, such as 100 or 1000. We simply stop scanning at that maximum rank.\n",
        "\n",
        "As we saw above, you should pass a query string (the `title` of a topic) and the desired number of results to the `search` method of the `searcher` object."
      ],
      "metadata": {
        "id": "LoDPnv1b04lP"
      }
    },
    {
      "cell_type": "code",
      "source": [
        "hits = searcher.search(dev_topics[355]['title'], 1000)\n",
        "[(hit.docid, hit.score) for hit in hits[0:10]]"
      ],
      "metadata": {
        "colab": {
          "base_uri": "https://localhost:8080/"
        },
        "id": "pvcF6KPN8jew",
        "outputId": "b77e1238-848d-4d96-e325-65bca80490b5"
      },
      "execution_count": 93,
      "outputs": [
        {
          "output_type": "execute_result",
          "data": {
            "text/plain": [
              "[('FBIS4-20436', 11.349300384521484),\n",
              " ('FBIS3-23683', 9.126500129699707),\n",
              " ('FBIS3-21238', 8.309300422668457),\n",
              " ('FBIS4-44915', 7.935699939727783),\n",
              " ('FBIS4-20602', 7.6006999015808105),\n",
              " ('FBIS4-47382', 7.529600143432617),\n",
              " ('FT943-1589', 7.480100154876709),\n",
              " ('LA071789-0059', 7.451399803161621),\n",
              " ('FBIS4-22145', 7.215099811553955),\n",
              " ('FBIS4-44667', 7.106500148773193)]"
            ]
          },
          "metadata": {},
          "execution_count": 93
        }
      ]
    },
    {
      "cell_type": "markdown",
      "source": [
        "For this assignment, evaluate MAP@1000 for the list of `test_topics` we created above. You should process the `qrels` data to find the relevant results for each query."
      ],
      "metadata": {
        "id": "407VkQsK8h6T"
      }
    },
    {
      "cell_type": "code",
      "source": [
        "## TODO [35 points]: Compute MAP@1000 for test_topics\n",
        "# Function to calculate MAP@1000\n",
        "from collections import defaultdict\n",
        "import numpy as np\n",
        "import pandas as pd\n",
        "def calculate_map_at_k(searcher, topics, qrels, k=1000):\n",
        "  # makes the qrels into a dict so it is easier to parse through\n",
        "  qrels_dict = defaultdict(list)\n",
        "  for qid, _, docid, relevance in qrels:\n",
        "    qrels_dict[qid].append((docid, relevance))\n",
        "\n",
        "  map_scores = []\n",
        "  # iterates through the topics\n",
        "  for qid, topic in topics.items():\n",
        "    # runs through the searcher the hits for each title(hits are sorted by the likihood of query being in doc)\n",
        "    hits = searcher.search(topic['title'], k)\n",
        "    hit_ids = [hit.docid for hit in hits]\n",
        "    # extract the relevance score for every hit id and stores in in a list\n",
        "    relevance = []\n",
        "    count_of_relevance = 1\n",
        "    for i,hit_id in enumerate(hit_ids, start = 1):\n",
        "      rel = next((score for docid, score in qrels_dict[qid] if docid == hit_id), 0)\n",
        "      if rel != 0:\n",
        "        relevance.append(count_of_relevance / i)\n",
        "        count_of_relevance += 1\n",
        "      # finds the average precision of all the hits for eacg topic and stores those results in a list\n",
        "    average_precision = np.mean(relevance) if relevance else 0\n",
        "\n",
        "    map_scores.append(average_precision)\n",
        "\n",
        "  return np.mean(map_scores)\n",
        "\n",
        "# Execute the MAP calculation\n",
        "map_1000 = calculate_map_at_k(searcher, test_topics, qrels, k=1000)\n",
        "print(map_1000)"
      ],
      "metadata": {
        "id": "aGQK-C935EVA",
        "colab": {
          "base_uri": "https://localhost:8080/"
        },
        "outputId": "ae32b784-c185-4b90-8c36-f06f08323d81"
      },
      "execution_count": 132,
      "outputs": [
        {
          "output_type": "stream",
          "name": "stdout",
          "text": [
            "0.32989671801626413\n"
          ]
        }
      ]
    },
    {
      "cell_type": "markdown",
      "source": [
        "## Implementing a Query Likelihood Model\n",
        "\n",
        "The default `LuceneSearcher` in pyserini uses a BM25 model. In this part of the assignment, you'll interact directly with the index to implement a query likelihood retrieval model.  For more details on pyserini's index API, [see the documentation](https://github.com/castorini/pyserini/blob/master/docs/usage-indexreader.md).\n",
        "\n",
        "We've already created an `IndexReader` for the Robust04 collection and assigned it to `reader`. Remember that we can pass documents or queries through the index's predefined analysis pipeline, a series of operations like stemming, stopword removal, etc."
      ],
      "metadata": {
        "id": "MpdecWki1sxo"
      }
    },
    {
      "cell_type": "code",
      "source": [
        "reader.analyze('Are there black bear attacks there?')"
      ],
      "metadata": {
        "colab": {
          "base_uri": "https://localhost:8080/"
        },
        "id": "HaDprYgo-yRz",
        "outputId": "c1407306-7714-41d7-f96b-fdc4bd0bd601"
      },
      "execution_count": 17,
      "outputs": [
        {
          "output_type": "execute_result",
          "data": {
            "text/plain": [
              "['black', 'bear', 'attack']"
            ]
          },
          "metadata": {},
          "execution_count": 17
        }
      ]
    },
    {
      "cell_type": "markdown",
      "source": [
        "For most retrieval models, including BM25 and query likelihood, we'll want to know the overall statistics for the terms we retrieve from the index. By default, pyserini will do stemming and other \"analysis\" steps on the terms you give it. But since we're already working with stemmed queries, we'll tell it not to perform this analysis now."
      ],
      "metadata": {
        "id": "hs11fpZY-4H8"
      }
    },
    {
      "cell_type": "code",
      "source": [
        "# Just checking that our term is already in its index form.\n",
        "print(reader.analyze('bear'))\n",
        "\n",
        "df, cf = reader.get_term_counts('bear', analyzer=None)\n",
        "print(f'The document frequency is {df} and the collection frequency is {cf}.')"
      ],
      "metadata": {
        "colab": {
          "base_uri": "https://localhost:8080/"
        },
        "id": "ZNHf3z1Y_gy2",
        "outputId": "ebbd9a84-0a4b-4681-d362-e635d1f26bf0"
      },
      "execution_count": 18,
      "outputs": [
        {
          "output_type": "stream",
          "name": "stdout",
          "text": [
            "['bear']\n",
            "The document frequency is 16429 and the collection frequency is 23545.\n"
          ]
        }
      ]
    },
    {
      "cell_type": "markdown",
      "source": [
        "You might also want to know summary statistics about the collection."
      ],
      "metadata": {
        "id": "FLGz4mncCuyd"
      }
    },
    {
      "cell_type": "code",
      "source": [
        "reader.stats()"
      ],
      "metadata": {
        "colab": {
          "base_uri": "https://localhost:8080/"
        },
        "id": "7L0l9hO4Cx5V",
        "outputId": "57e5b88d-d314-45b8-e25c-5fb19aa61058"
      },
      "execution_count": 19,
      "outputs": [
        {
          "output_type": "execute_result",
          "data": {
            "text/plain": [
              "{'total_terms': 174540872,\n",
              " 'documents': 528030,\n",
              " 'non_empty_documents': 528030,\n",
              " 'unique_terms': 923436}"
            ]
          },
          "metadata": {},
          "execution_count": 19
        }
      ]
    },
    {
      "cell_type": "markdown",
      "source": [
        "Now let's traverse the postings for a term."
      ],
      "metadata": {
        "id": "o7878QVlAPWA"
      }
    },
    {
      "cell_type": "code",
      "source": [
        "posting_list = reader.get_postings_list('bear', analyzer=None)\n",
        "print(f'There are {len(posting_list)} postings.')\n",
        "\n",
        "posting = posting_list[100]\n",
        "print(f'Each posting contains a document ID ({posting.docid}), term frequency ({posting.tf}), and position list ({posting.positions}).')\n",
        "\n",
        "print(f'searcher has a method for turning internal integer IDs like {posting.docid} into external IDs like {searcher.doc(posting.docid).docid()}.')"
      ],
      "metadata": {
        "colab": {
          "base_uri": "https://localhost:8080/"
        },
        "id": "rWdztSSQAaVs",
        "outputId": "ad71b50e-e667-4924-a822-d1b154b726e5"
      },
      "execution_count": 20,
      "outputs": [
        {
          "output_type": "stream",
          "name": "stdout",
          "text": [
            "There are 16429 postings.\n",
            "Each posting contains a document ID (3405), term frequency (1), and position list ([461]).\n",
            "searcher has a method for turning internal integer IDs like 3405 into external IDs like LA031889-0009.\n"
          ]
        }
      ]
    },
    {
      "cell_type": "markdown",
      "source": [
        "If, instead of mapping terms to documents, you want to use a document name to get term information, see above for the `get_document_vector` method.\n",
        "\n",
        "Now you should have all the information you need to implement a query likelihood retrieval model. Use Dirichlet smoothing with $\\mu = 550$."
      ],
      "metadata": {
        "id": "F9KdZ6LLMiBS"
      }
    },
    {
      "cell_type": "code",
      "source": [
        "# Okay to to start I need to basiclaly fins what the log R(S|F) where you go through each word in the query and essentially find the prob of each word in the query\n",
        "# occuring in the document. So after finding these indv values, we use Bayes' Rule to rank documents based on the probability of generating the\n",
        "# query from the documents’ language models.\n",
        "\n",
        "\n",
        "# what is the necessary Data:\n",
        "### Extract each query terms and need to find all the terms in the total collection\n",
        "\n",
        "\n"
      ],
      "metadata": {
        "id": "f4DSng3gvo2B"
      },
      "execution_count": null,
      "outputs": []
    },
    {
      "cell_type": "code",
      "source": [
        "## TODO [50 points]: Implement a query likelihood model with Dirichlet smoothing.\n",
        "## For a given query, index reader, and constant k, return the k documents with the highest query likelihoods.\n",
        "## Think about what data s would let you keep the top k.\n",
        "\n",
        "import numpy as np\n",
        "from collections import defaultdict\n",
        "\n",
        "def query_likelihood_model(reader, query, k=1000, mu=550):\n",
        "\n",
        "    # Process query terms and extracts the indv doc terms\n",
        "    terms = reader.analyze(query)\n",
        "     # Finds the number of Total terms in the collection\n",
        "    coll_length = reader.stats()['total_terms']\n",
        "\n",
        "    # basically looks to get the doc frequency and the collection freuqency for each query term\n",
        "    # Stores this data in a dictionary called coll_freq\n",
        "    coll_freq = {}\n",
        "    for term in terms:\n",
        "        df, cf = reader.get_term_counts(term, analyzer=None)\n",
        "        coll_freq[term] = cf\n",
        "\n",
        "    # Create where the indv doc likihoods are being stores\n",
        "    doc_likelihoods = defaultdict(float)\n",
        "    doc_length_cache= {}\n",
        "    # Iterate over each term extracted from the query\n",
        "    for term in terms:\n",
        "        # goes through every doc and extracts the following information\n",
        "        # 1. Doc Number, 2. The number of times the query temr will appear in that doc, 3. the position in which that term appears\n",
        "        postings_list = reader.get_postings_list(term, analyzer=None)\n",
        "        term_prob_coll = coll_freq[term] / coll_length if coll_freq[term] else 0\n",
        "\n",
        "        # Iterates through every doc in posting list\n",
        "        for posting in postings_list:\n",
        "            doc_id = searcher.doc(posting.docid).docid()\n",
        "            if doc_id not in doc_length_cache:\n",
        "              doc_vector = reader.get_document_vector(doc_id)\n",
        "              doc_length_cache[doc_id] = sum(doc_vector.values()) if doc_vector else 0\n",
        "            doc_length = doc_length_cache[doc_id]\n",
        "            # Calculate the smoothed probability for each inv doc\n",
        "            # P Dirichlet​(w∣d)= count(w,d)+α⋅P(w∣C) / ∣d∣+α\n",
        "            if doc_length > 0:\n",
        "                smoothed_likelihood = np.log((posting.tf + mu * term_prob_coll) / (doc_length + mu))\n",
        "                doc_likelihoods[doc_id] += smoothed_likelihood\n",
        "\n",
        "\n",
        "    # Get the top k documents based on the likelihood\n",
        "    top_k_docs = sorted(doc_likelihoods.items(), key=lambda item: item[1], reverse=True)[:k]\n",
        "\n",
        "    return top_k_docs"
      ],
      "metadata": {
        "id": "PKAzgxzwNQ8v"
      },
      "execution_count": 129,
      "outputs": []
    },
    {
      "cell_type": "markdown",
      "source": [
        "Now you can reuse some of your evaluation code for mean average precision from above."
      ],
      "metadata": {
        "id": "xKVt8NkKQlqV"
      }
    },
    {
      "cell_type": "code",
      "source": [
        "## TODO [15 points]: Compute the MAP@1000 for the test set you used above to evaluate BM25.\n",
        "from collections import defaultdict\n",
        "import numpy as np\n",
        "import pandas as pd\n",
        "def calculate_map_at_k_likelihood(qlm, reader, topics, qrels, k=1000, mu=550):\n",
        "  # makes the qrels into a dict so it is easier to parse through\n",
        "  qrels_dict = defaultdict(list)\n",
        "  for qid, _, docid, relevance in qrels:\n",
        "    qrels_dict[qid].append((docid, relevance))\n",
        "\n",
        "  map_scores = []\n",
        "  # iterates through the topics\n",
        "  for qid, topic in topics.items():\n",
        "    # runs through the query liklihood model the hits for each title(hits are sorted by the likihood of query being in doc)\n",
        "    hits = query_likelihood_model(reader, topic['title'], k, mu)\n",
        "    hit_ids = [hit for hit, _ in hits]\n",
        "    # extract the relevance score for every hit id and stores in in a list\n",
        "    relevance = []\n",
        "    count_of_relevance = 1\n",
        "    for i,hit_id in enumerate(hit_ids, start = 1):\n",
        "      rel = next((score for docid, score in qrels_dict[qid] if docid == hit_id), 0)\n",
        "      if rel != 0:\n",
        "        relevance.append(count_of_relevance / i)\n",
        "        count_of_relevance += 1\n",
        "    # finds the average precision of all the hits for each topic and stores those results in a list\n",
        "    average_precision = np.mean(relevance) if relevance else 0\n",
        "\n",
        "    map_scores.append(average_precision)\n",
        "\n",
        "  return np.mean(map_scores)\n",
        "\n",
        "map_1000 = calculate_map_at_k_likelihood(searcher, reader, test_topics, qrels, k=1000, mu = 550)\n",
        "print(map_1000)"
      ],
      "metadata": {
        "id": "67coeQ03NcN6",
        "colab": {
          "base_uri": "https://localhost:8080/"
        },
        "outputId": "71233a34-f2db-4317-ac54-90b6fea7eae2"
      },
      "execution_count": 130,
      "outputs": [
        {
          "output_type": "stream",
          "name": "stdout",
          "text": [
            "['FBIS3-59301', 'LA101389-0130', 'LA020789-0112', 'FR940323-1-00015', 'LA031289-0154', 'LA021590-0211', 'FBIS4-45476', 'LA101190-0078', 'LA111390-0065', 'LA110690-0168', 'FBIS4-4066', 'FBIS4-50962', 'LA102990-0096', 'FT943-13582', 'FR941007-2-00137', 'LA030989-0098', 'LA010890-0049', 'FBIS3-41753', 'FT931-9495', 'LA030390-0028', 'LA051589-0038', 'FR940323-1-00014', 'FT944-6958', 'FR940323-1-00017', 'FR940323-1-00040', 'LA112990-0145', 'FR940323-1-00028', 'LA061290-0069', 'FT934-15198', 'LA081489-0063', 'LA110589-0159', 'LA070889-0062', 'LA042389-0005', 'LA071090-0144', 'LA111890-0235', 'LA020689-0062', 'LA110289-0001', 'LA110689-0009', 'LA071890-0162', 'FR941206-0-00215', 'LA111890-0131', 'FR940610-2-00077', 'LA041590-0046', 'FT942-5902', 'LA061090-0145', 'LA022390-0085', 'FR940525-1-00071', 'LA070290-0119', 'LA051190-0035', 'FR940525-1-00087', 'LA072490-0039', 'LA110389-0166', 'FBIS4-20994', 'FR940627-0-00242', 'LA101689-0053', 'LA062589-0099', 'LA072789-0080', 'LA100489-0012', 'LA041790-0117', 'FR941007-2-00136', 'FBIS3-60221', 'LA051689-0061', 'FT941-5267', 'LA012690-0126', 'FBIS4-52170', 'LA071390-0034', 'LA071389-0050', 'LA012290-0039', 'FT931-16163', 'LA031589-0080', 'LA062290-0193', 'LA061189-0015', 'FT923-1768', 'LA081889-0015', 'FT942-6400', 'LA022789-0012', 'LA041689-0037', 'LA041390-0138', 'FR940323-1-00023', 'FR941028-2-00221', 'LA032190-0008', 'LA120989-0143', 'FR940323-1-00047', 'FR940104-0-00035', 'FBIS3-40122', 'FT921-7833', 'LA022489-0162', 'LA121189-0060', 'LA081589-0070', 'FT943-14319', 'LA061789-0007', 'FT924-9282', 'LA061390-0134', 'FR941222-2-00132', 'LA110490-0020', 'FT934-428', 'FT933-468', 'FR941006-1-00107', 'FT933-4185', 'FT934-13100', 'FT944-10898', 'LA051789-0002', 'FT933-7711', 'FT942-13574', 'FT921-10739', 'FR940323-1-00033', 'FT911-55', 'FT921-3465', 'FT934-15265', 'LA052589-0192', 'LA092590-0067', 'LA120389-0120', 'FT933-8066', 'LA080189-0025', 'LA040590-0161', 'FT934-7136', 'LA111389-0071', 'LA071890-0035', 'FT911-3351', 'FR940323-1-00034', 'LA033190-0133', 'LA091889-0055', 'LA041990-0103', 'FT924-78', 'LA051589-0011', 'LA032289-0135', 'LA071590-0207', 'LA110189-0101', 'FT943-3946', 'FT911-805', 'LA072689-0038', 'LA032389-0100', 'LA011689-0040', 'LA082090-0003', 'LA043089-0103', 'LA101790-0136', 'LA010289-0042', 'FT934-16028', 'LA042190-0041', 'FT934-8869', 'LA022689-0006', 'LA042590-0123', 'FT931-17135', 'LA120889-0120', 'LA072490-0001', 'LA032990-0010', 'LA100890-0105', 'LA021190-0104', 'LA103090-0134', 'FT944-4445', 'LA070390-0081', 'LA113089-0117', 'LA052789-0040', 'LA051090-0127', 'LA080589-0098', 'LA022590-0049', 'FT923-11231', 'LA121089-0095', 'FT923-9430', 'LA052889-0030', 'LA082190-0143', 'LA062589-0023', 'LA020390-0146', 'LA081990-0048', 'FR940627-0-00247', 'LA031989-0057', 'FT923-6017', 'FR941222-2-00134', 'FR940323-1-00042', 'LA100790-0071', 'LA112689-0072', 'FBIS3-60858', 'FT934-11241', 'LA093090-0209', 'FT944-15893', 'FT943-3944', 'FR940627-0-00246', 'LA102590-0107', 'LA020789-0110', 'LA020390-0019', 'FBIS4-22950', 'FBIS4-3666', 'FR941028-2-00211', 'LA050890-0077', 'FT923-14437', 'FBIS3-5657', 'LA031989-0112', 'LA050590-0136', 'LA101890-0148', 'FBIS3-46100', 'LA041790-0023', 'LA121489-0255', 'LA042490-0067', 'LA081389-0026', 'LA041189-0057', 'LA122789-0034', 'FT922-11240', 'LA092890-0154', 'LA031489-0135', 'FBIS4-2468', 'LA101490-0212', 'LA092189-0211', 'LA051790-0018', 'FBIS3-44378', 'LA031590-0014', 'LA111489-0030', 'LA020389-0120', 'FT934-6665', 'FBIS3-60409', 'LA041390-0134', 'LA111189-0089', 'LA102389-0092', 'LA061890-0120', 'LA050190-0068', 'LA101989-0133', 'LA062390-0112', 'FR940627-2-00087', 'LA060489-0113', 'FR941206-0-00216', 'LA102289-0225', 'FBIS4-46923', 'FT943-1156', 'LA091490-0138', 'FT934-15423', 'FBIS4-45490', 'LA031190-0041', 'LA042989-0026', 'LA072290-0096', 'FR941013-2-00069', 'FR940511-1-00103', 'FT922-11700', 'LA122490-0037', 'LA041190-0159', 'LA070489-0106', 'LA040690-0016', 'FT944-863', 'LA011789-0107', 'LA032190-0065', 'FT942-15893', 'LA053090-0109', 'FT922-3386', 'FT933-16720', 'LA101389-0005', 'LA042889-0006', 'LA090890-0028', 'LA081289-0105', 'LA061990-0130', 'FT921-11796', 'LA122690-0090', 'LA021690-0050', 'FT924-4913', 'LA042689-0143', 'FT933-13815', 'LA101190-0090', 'FR940323-1-00018', 'LA102789-0177', 'FBIS4-67380', 'LA040889-0137', 'FT933-14245', 'FT932-7416', 'LA030589-0109', 'FT933-3431', 'FBIS4-25611', 'LA021489-0078', 'LA041189-0121', 'LA040490-0027', 'FR940324-2-00083', 'FT921-14677', 'FT941-12565', 'LA082890-0085', 'LA051889-0151', 'LA111190-0025', 'FBIS3-44438', 'FT931-6390', 'LA041090-0158', 'FT933-10658', 'LA033190-0083', 'LA051789-0053', 'LA030489-0135', 'LA101290-0131', 'FT934-10660', 'FR941007-2-00138', 'LA033190-0061', 'FT943-3671', 'FT932-1982', 'LA092889-0143', 'FT941-9723', 'LA072990-0053', 'FR940922-2-00126', 'LA070490-0032', 'FT944-3987', 'LA042189-0138', 'LA083089-0031', 'FT931-6396', 'LA102590-0077', 'FT931-7761', 'LA122490-0040', 'FT923-9768', 'LA113090-0141', 'LA111789-0154', 'LA080990-0108', 'LA110589-0190', 'FR941006-1-00147', 'FT942-14889', 'FT921-14709', 'FT931-2806', 'LA113089-0183', 'LA121990-0121', 'LA041790-0161', 'LA080290-0069', 'LA042690-0220', 'LA120189-0174', 'FT943-9443', 'FT944-14389', 'LA120789-0115', 'LA121089-0224', 'FR941202-0-00176', 'LA012190-0130', 'LA101289-0194', 'FR940511-1-00105', 'LA101189-0065', 'LA012989-0064', 'LA121190-0076', 'FR941004-1-00087', 'FT933-2962', 'FT923-7004', 'FT941-13098', 'LA110590-0048', 'LA092689-0080', 'LA030390-0081', 'LA060489-0116', 'FBIS4-22214', 'FT922-8545', 'LA020990-0030', 'FBIS3-22688', 'FBIS3-36800', 'LA092190-0126', 'LA081890-0092', 'FR941202-0-00183', 'FT924-8981', 'LA031989-0178', 'FT942-13933', 'FBIS3-26306', 'FT924-484', 'FR940323-1-00010', 'FT923-10445', 'FT932-5173', 'FT942-17533', 'FT941-5015', 'FT923-4625', 'FR940324-2-00084', 'LA061490-0196', 'FT934-11319', 'FT911-1822', 'LA092689-0119', 'FT943-16653', 'FT933-15412', 'FBIS4-67388', 'FBIS4-47441', 'FBIS4-22542', 'FT944-10897', 'FT911-5011', 'FT941-13709', 'FT933-8512', 'FT944-11416', 'FT933-11363', 'FT921-11710', 'FT921-16092', 'FT911-5100', 'FT924-12900', 'LA031290-0095', 'FT924-2505', 'FT933-11362', 'FT933-1921', 'FT942-15197', 'FT944-18502', 'FT921-7016', 'LA101190-0211', 'LA081789-0105', 'FT934-14094', 'FT921-10187', 'LA020389-0129', 'FT931-1909', 'LA101290-0150', 'LA020289-0197', 'FT922-1356', 'FT933-8908', 'FT931-16253', 'FT932-7483', 'FT921-6507', 'LA102989-0021', 'FT941-6910', 'FT944-3975', 'LA122489-0006', 'LA041290-0214', 'FT941-14547', 'FT942-10102', 'FT922-9062', 'FR940323-1-00019', 'LA043089-0198', 'FT923-8859', 'FT933-3785', 'FT934-578', 'LA101389-0120', 'FT921-9848', 'FT944-9650', 'LA092789-0095', 'LA051189-0021', 'FT934-8725', 'FT923-3547', 'FT923-5158', 'FT934-15231', 'LA112290-0045', 'FT942-8095', 'LA041290-0062', 'LA071990-0068', 'LA042590-0044', 'LA121789-0004', 'LA061989-0013', 'FT944-6684', 'LA112089-0042', 'LA090790-0088', 'LA062490-0060', 'LA081389-0069', 'LA011990-0035', 'LA071090-0078', 'FT933-4624', 'LA092189-0172', 'FT942-7097', 'LA051690-0016', 'FBIS4-23282', 'FT944-14349', 'LA101190-0032', 'FT941-8914', 'FT941-8705', 'LA100390-0129', 'LA041890-0107', 'FT933-1019', 'LA031889-0059', 'FBIS3-43714', 'FT933-14723', 'LA013089-0026', 'LA042890-0077', 'FT933-8391', 'FT944-13523', 'FT933-14229', 'LA091290-0141', 'LA092289-0065', 'FT944-9658', 'FT923-8433', 'FT934-15832', 'LA123090-0143', 'FT933-6877', 'LA101289-0108', 'LA111789-0013', 'LA072790-0176', 'FT922-6314', 'LA042789-0062', 'FT922-10991', 'FT924-10636', 'LA081889-0012', 'LA072489-0051', 'LA060289-0068', 'LA040690-0025', 'LA120789-0021', 'FBIS3-35181', 'LA122790-0174', 'LA020390-0112', 'LA062590-0087', 'FBIS4-12332', 'LA010390-0060', 'FT924-419', 'LA110389-0167', 'FT943-11831', 'FT944-7510', 'LA031990-0032', 'FT942-17658', 'FT942-15471', 'LA071690-0003', 'LA021690-0057', 'FT924-10628', 'LA042590-0128', 'LA120689-0152', 'LA062289-0088', 'LA122590-0039', 'LA111090-0031', 'LA042690-0027', 'LA032690-0029', 'FT924-1660', 'LA040890-0101', 'LA070390-0037', 'LA032390-0072', 'LA081490-0169', 'LA071790-0170', 'FBIS4-46450', 'FBIS3-60855', 'LA011590-0130', 'LA012590-0152', 'LA111589-0082', 'LA102290-0023', 'LA041590-0184', 'LA121889-0033', 'FT923-9841', 'LA062389-0034', 'FT942-14030', 'FT922-203', 'FT931-12097', 'LA121989-0140', 'LA042589-0007', 'FT934-330', 'LA121290-0166', 'FT942-3175', 'FT933-7280', 'FBIS3-24618', 'FT923-15569', 'FT943-8461', 'LA070690-0087', 'LA071189-0132', 'LA032589-0012', 'FT921-6859', 'FBIS3-51282', 'LA022290-0232', 'LA121590-0022', 'LA070489-0104', 'FBIS4-21301', 'FT933-5637', 'LA030289-0009', 'FBIS3-37924', 'FT924-46', 'LA121089-0101', 'LA061090-0075', 'FT934-15831', 'FT922-528', 'LA120190-0129', 'LA061490-0026', 'LA122489-0076', 'FBIS4-8689', 'LA032790-0098', 'FT934-5930', 'FT932-5673', 'FT921-5049', 'FT934-1300', 'LA070290-0044', 'LA122090-0138', 'LA040590-0159', 'LA080989-0006', 'FT942-6973', 'FT932-17144', 'LA050789-0128', 'LA082089-0109', 'FT911-4128', 'FBIS4-67700', 'FT944-15539', 'FT941-6345', 'LA042489-0105', 'FT934-15200', 'FT934-2220', 'LA052889-0165', 'LA081390-0050', 'FT923-14327', 'FBIS4-6000', 'LA031290-0021', 'FT924-10621', 'FBIS3-46196', 'LA111189-0007', 'LA082890-0017', 'FT933-13084', 'FT941-10522', 'FT934-16097', 'LA113090-0119', 'FT941-2924', 'LA092390-0040', 'FT941-4913', 'LA041590-0016', 'FT943-927', 'LA070990-0116', 'FT922-6827', 'FT911-1347', 'FT944-693', 'LA031090-0070', 'LA053090-0024', 'LA012289-0006', 'LA120789-0015', 'FT921-15458', 'FT941-16307', 'FT923-15471', 'LA050789-0014', 'LA071190-0063', 'FT911-195', 'LA042689-0146', 'LA030590-0052', 'LA031289-0224', 'LA052189-0194', 'FR940525-1-00088', 'FT924-5770', 'FT931-16165', 'FT942-6141', 'FBIS4-7175', 'LA102689-0083', 'FT924-13849', 'FT922-708', 'FT933-14102', 'LA121990-0154', 'FT911-1772', 'LA040189-0038', 'FBIS3-29787', 'LA121290-0074', 'LA122490-0059', 'LA052990-0104', 'FBIS3-5431', 'FT923-14830', 'LA102289-0180', 'FT921-922', 'FT934-9081', 'LA091089-0106', 'FBIS4-46349', 'FBIS4-15877', 'LA052790-0141', 'FT911-2037', 'FT943-15055', 'FT943-11622', 'FBIS4-49161', 'FT933-8030', 'FBIS4-25736', 'FT942-4566', 'FT942-1878', 'LA020290-0187', 'LA102289-0085', 'LA082690-0034', 'LA092689-0051', 'LA021989-0106', 'FT923-4293', 'LA073189-0021', 'LA052190-0127', 'FBIS4-45855', 'LA092889-0160', 'FT933-4636', 'FBIS4-48486', 'LA022589-0148', 'FBIS4-21441', 'FT943-10624', 'FBIS4-48704', 'FT921-6350', 'FBIS4-61425', 'LA101189-0040', 'LA062390-0024', 'FT941-3501', 'LA012890-0074', 'LA071490-0092', 'LA110189-0049', 'FBIS4-67680', 'LA102890-0222', 'FT941-16015', 'LA060589-0035', 'FT924-15913', 'FR941028-2-00185', 'LA111889-0136', 'LA071790-0124', 'FBIS4-3158', 'FT931-15771', 'FT911-2883', 'LA101990-0100', 'FBIS4-47412', 'LA022689-0179', 'LA110490-0096', 'FT943-3473', 'LA052189-0032', 'FBIS3-46053', 'LA011489-0070', 'LA072990-0062', 'FT941-16285', 'FBIS3-27475', 'LA092790-0244', 'FT933-2679', 'FT941-16858', 'LA101989-0152', 'FT934-14116', 'FT933-9156', 'FBIS3-60411', 'LA120289-0126', 'LA120190-0133', 'FT934-13064', 'LA042790-0038', 'FT932-754', 'LA092190-0115', 'FT922-7215', 'LA030890-0219', 'FT941-14555', 'FT932-614', 'LA040489-0021', 'LA080190-0149', 'FT941-14766', 'FBIS4-50874', 'LA102390-0066', 'FBIS3-24542', 'FT923-14229', 'LA040690-0107', 'FBIS3-43395', 'LA050790-0098', 'LA120290-0042', 'FT934-16084', 'LA110789-0071', 'FT922-1310', 'LA072489-0004', 'FT932-6518', 'FT924-406', 'FT934-11014', 'LA043090-0126', 'FT931-12672', 'FBIS4-55250', 'LA061590-0134', 'FT934-9087', 'LA110890-0012', 'FBIS3-22527', 'FT931-12912', 'FT921-3529', 'FT942-2', 'FBIS3-60483', 'LA033089-0021', 'FT933-1360', 'LA041590-0075', 'LA051689-0164', 'FT921-5748', 'FT922-855', 'FBIS4-34991', 'LA051489-0028', 'LA052090-0102', 'FT933-10215', 'FT934-14048', 'FBIS4-51839', 'FT942-8716', 'FR941230-2-00133', 'LA011289-0004', 'LA120389-0086', 'FT931-1787', 'FT924-13627', 'FT924-9739', 'FBIS3-24177', 'LA042590-0096', 'FT922-9337', 'FT933-12419', 'LA020989-0013', 'LA102689-0148', 'FBIS3-37845', 'FT922-14124', 'LA051589-0052', 'LA081389-0073', 'FT922-3561', 'FT922-264', 'FR940513-2-00064', 'FT921-16543', 'FT923-380', 'LA030489-0074', 'FBIS4-2487', 'LA091290-0175', 'FR941206-2-00054', 'LA082490-0161', 'FT933-7030', 'FT933-2996', 'LA060689-0129', 'FBIS4-48577', 'FR941121-2-00068', 'LA121389-0090', 'LA110289-0195', 'LA102089-0156', 'LA081289-0089', 'FT921-2974', 'LA050789-0169', 'FT943-15936', 'FT941-10257', 'LA041290-0081', 'FT922-79', 'FT921-14815', 'FT934-7178', 'FBIS3-43715', 'FBIS4-34973', 'FT921-14472', 'FT911-4601', 'FT911-225', 'FT923-14112', 'LA102089-0065', 'FBIS3-10683', 'LA081690-0210', 'FT942-3713', 'FR940323-1-00031', 'FBIS4-49400', 'FT933-7841', 'FT943-13862', 'FT922-3928', 'FR941006-1-00134', 'FR940602-2-00060', 'FT923-7445', 'FT933-2278', 'LA060990-0055', 'FT934-1341', 'FBIS4-52171', 'FBIS4-45468', 'FBIS4-67457', 'FT942-17205', 'FT933-16667', 'FR940602-2-00048', 'FT931-10844', 'FR940930-2-00069', 'FT943-4882', 'FT921-5121', 'LA090789-0080', 'FT942-8954', 'FT932-6133', 'LA092889-0137', 'FT931-13487', 'FT942-114', 'FT941-8378', 'LA062089-0046', 'FBIS3-22693', 'FT934-4824', 'LA111290-0010', 'FT922-1426', 'FT933-8852', 'LA022389-0226', 'LA070790-0011', 'FT934-6659', 'LA081989-0080', 'FT943-15458', 'FR941028-2-00223', 'LA092590-0081', 'LA010490-0215', 'FBIS3-21399', 'LA111489-0074', 'FT931-13591', 'FBIS3-22690', 'FBIS3-42322', 'FT923-9661', 'LA041890-0051', 'FT944-8316', 'FR940707-2-00113', 'LA102590-0253', 'LA031390-0112', 'FT924-2265', 'FT943-11187', 'FT943-11461', 'FT942-17264', 'FT931-15823', 'LA112590-0036', 'FT921-6435', 'FT923-449', 'LA051690-0021', 'LA020289-0046', 'LA051790-0200', 'FT922-613', 'FT943-5304', 'FT911-743', 'FBIS3-59716', 'LA123090-0054', 'LA110490-0082', 'FT931-8051', 'FT943-5144', 'FT943-691', 'FT921-15542', 'FT934-13122', 'FT941-175', 'FT924-158', 'FT942-17487', 'LA071389-0096', 'FT922-11688', 'FT921-1097', 'LA072690-0158', 'FBIS4-7911', 'FT922-4154', 'FT944-4245', 'FT933-2919', 'LA102889-0109', 'FBIS3-5430', 'LA080890-0129', 'FT943-3969', 'FT931-4431', 'LA111590-0116', 'LA050589-0159', 'FT922-4466', 'LA102989-0014', 'FT942-15957', 'FT923-14077', 'FT922-1132', 'LA041590-0213', 'FBIS3-51758', 'FT933-7800', 'FR941031-2-00104', 'FT911-3962', 'FT921-14892', 'FT932-5771', 'FR940805-2-00077', 'LA022390-0162', 'FT932-3100', 'FT943-11927', 'LA081189-0008', 'FR940323-1-00041', 'FT941-8320', 'LA021390-0123', 'LA112090-0144', 'FT934-1236', 'LA061189-0085', 'FT921-260', 'FT911-2365', 'FT924-7648', 'FT942-1096', 'FT922-12062', 'FT924-4731', 'LA120690-0072', 'LA101790-0116', 'LA061189-0128', 'FT923-8848', 'LA113090-0014', 'FT932-3604', 'LA082389-0042', 'FT923-3312', 'LA040990-0121', 'FT923-4672', 'LA083089-0001', 'FT944-17294', 'FBIS3-22672', 'FT923-8085', 'FBIS4-38894', 'FT921-13868', 'FR940627-0-00249', 'FT921-11906', 'FR940627-0-00245', 'LA092889-0156', 'FT943-9459', 'FBIS4-1797', 'FT942-16619', 'LA081889-0103', 'FR940810-0-00271', 'LA050189-0075', 'FT932-16727', 'LA051090-0102', 'FT933-3290', 'FBIS3-60493', 'FT942-8529', 'LA090389-0087', 'LA020190-0043', 'LA021289-0203', 'FBIS4-1964', 'FT922-3521', 'FT934-5811', 'FBIS3-22565', 'LA111689-0169', 'FBIS3-26323', 'FT942-9317', 'FT923-13355', 'FT942-6237', 'LA072089-0027', 'LA090489-0069', 'FT911-2775', 'LA120989-0065', 'FT943-7719', 'LA073090-0091', 'LA090590-0115', 'LA070590-0077', 'FT942-3353', 'FT921-3333', 'FT942-6551', 'FBIS3-52314', 'FBIS4-33720', 'LA072390-0053', 'LA111689-0013', 'FT943-3963', 'LA040290-0135', 'FT933-5118', 'FBIS4-32107', 'LA120790-0115', 'FT923-11772', 'FBIS4-65837', 'LA110790-0070', 'LA012990-0057', 'FBIS4-22946', 'LA050690-0007', 'FT942-4343', 'FT933-9709', 'FT931-7942', 'FR940602-2-00051', 'LA122290-0110', 'FT921-3766', 'LA083190-0132', 'FT923-5069', 'LA041390-0101', 'FBIS4-66172', 'LA102290-0001', 'LA081089-0177', 'LA072090-0085', 'FT934-427', 'LA100390-0102', 'FT943-4154', 'LA123190-0080', 'FT942-17111', 'FT942-15637', 'LA052189-0185', 'LA120190-0116', 'LA021790-0150', 'FT943-12534', 'FBIS4-6338', 'LA101990-0129']\n",
            "['LA092989-0098', 'FBIS4-3894', 'LA093089-0065', 'LA092989-0114', 'FT931-3244', 'FT931-12874', 'FT933-15822', 'LA072990-0201', 'LA101489-0015', 'FT932-15646', 'LA093090-0112', 'FT944-8607', 'FBIS4-25449', 'LA010990-0070', 'LA061290-0132', 'LA061789-0140', 'LA091489-0178', 'FBIS4-29097', 'FBIS4-29117', 'LA061090-0238', 'LA010689-0154', 'FT932-10258', 'LA060790-0212', 'LA050890-0097', 'LA031690-0080', 'LA071790-0054', 'LA041689-0156', 'LA030690-0151', 'LA091789-0163', 'LA100790-0251', 'LA112089-0015', 'FT933-2963', 'LA033090-0133', 'FT944-4861', 'LA122289-0125', 'LA071990-0064', 'LA021589-0047', 'FT923-12432', 'FT943-14511', 'LA092890-0064', 'FT942-5165', 'LA112489-0082', 'LA112589-0072', 'FT944-4744', 'LA082990-0115', 'FBIS3-27824', 'LA061090-0142', 'LA122590-0055', 'LA071990-0036', 'FT923-5447', 'FBIS4-58507', 'LA032390-0050', 'FT933-2399', 'FT941-1097', 'LA120890-0096', 'FR940616-2-00122', 'LA070390-0111', 'LA111189-0110', 'FR941031-2-00069', 'FT911-466', 'FT942-8984', 'LA062290-0047', 'FT943-10814', 'LA030690-0115', 'LA030690-0159', 'LA081290-0112', 'FT931-8659', 'FBIS3-53187', 'FT934-16918', 'LA021590-0028', 'FT924-10412', 'FT934-9583', 'FT924-7670', 'LA011590-0102', 'FT942-2242', 'LA032489-0096', 'FT934-8117', 'LA070890-0075', 'LA091189-0089', 'FBIS3-21196', 'LA051090-0058', 'FT942-6432', 'LA081190-0040', 'FT923-6698', 'LA100890-0039', 'FBIS3-40454', 'FR940630-2-00169', 'LA020990-0153', 'LA120989-0103', 'LA102789-0172', 'LA012790-0155', 'FT941-4934', 'FR941031-2-00071', 'FT942-10356', 'LA022189-0094', 'LA120190-0153', 'FT924-14202', 'FBIS3-5364', 'FBIS3-12599', 'LA053089-0082', 'FT924-484', 'FT924-2665', 'LA070789-0097', 'LA103190-0087', 'FT923-7955', 'LA053190-0002', 'LA010890-0096', 'FT924-2939', 'LA030690-0092', 'FBIS3-26613', 'FBIS4-29925', 'FT924-2236', 'LA061290-0155', 'FBIS3-24076', 'FT942-12164', 'FT942-10817', 'FT924-6278', 'FT921-7297', 'FBIS3-46243', 'FT933-12561', 'LA100790-0126', 'FT944-18782', 'LA021990-0084', 'LA021289-0146', 'FT943-4583', 'LA092689-0070', 'LA070290-0106', 'LA080589-0029', 'FT942-305', 'FT934-15832', 'LA121489-0230', 'FT944-9858', 'FT924-6531', 'FT924-14631', 'FBIS4-4314', 'FBIS3-21132', 'FBIS3-18738', 'FT934-6103', 'LA121189-0061', 'LA090989-0022', 'LA100290-0115', 'LA092190-0155', 'FBIS3-40630', 'LA072490-0087', 'FT924-8029', 'FT941-4932', 'FT921-8725', 'FBIS4-1533', 'FT943-5542', 'FT924-8630', 'FBIS3-5365', 'FT941-915', 'FBIS3-37416', 'FT941-13096', 'FT933-8018', 'FBIS4-58463', 'FT923-11128', 'FT943-11620', 'FT942-8446', 'FT941-11690', 'FR940324-2-00157', 'LA120790-0154', 'FBIS3-28190', 'FT921-3013', 'FT943-16131', 'FT911-1636', 'LA061689-0103', 'LA102789-0132', 'FT922-11404', 'LA072089-0124', 'LA100990-0018', 'LA040689-0098', 'FBIS4-56824', 'FBIS4-46463', 'FBIS4-29133', 'FBIS4-28919', 'FT941-10267', 'LA111989-0003', 'FT924-15663', 'FT941-11696', 'LA062389-0117', 'LA030189-0063', 'LA050390-0140', 'LA061790-0236', 'LA071590-0018', 'LA020689-0014', 'LA030490-0211', 'FT931-1945', 'LA120990-0158', 'LA070890-0148', 'LA082690-0021', 'LA042490-0062', 'FT921-4882', 'FT934-15737', 'LA020290-0086', 'FT944-3018', 'LA123090-0003', 'FR940617-1-00015', 'FT924-8682', 'LA101289-0091', 'FT932-1982', 'FBIS3-57461', 'LA032090-0119', 'LA021789-0020', 'LA071689-0116', 'FBIS3-5295', 'LA071990-0204', 'FT944-3748', 'FBIS3-27823', 'FT932-4724', 'LA061590-0134', 'FBIS4-1939', 'FBIS4-20630', 'LA053190-0013', 'LA012089-0059', 'FBIS4-10836', 'FBIS3-29827', 'FT933-11436', 'LA032190-0015', 'LA051089-0148', 'LA080789-0082', 'FT944-12912', 'FBIS4-60400', 'FT921-2337', 'LA032689-0094', 'FT941-11677', 'FT924-482', 'LA081990-0251', 'LA081589-0007', 'FT932-2890', 'FT934-4181', 'FT924-9923', 'FT934-16046', 'LA092090-0039', 'FT942-8697', 'LA060290-0106', 'FBIS3-43085', 'LA040190-0006', 'FBIS3-47599', 'FBIS3-6362', 'LA122989-0024', 'LA092089-0135', 'LA082090-0050', 'FT933-9496', 'LA120889-0157', 'FBIS4-53629', 'FBIS4-41511', 'FT933-3442', 'FBIS3-35264', 'FBIS4-60593', 'FT941-12804', 'FT922-11405', 'LA063090-0048', 'LA102989-0227', 'FBIS3-28741', 'FT924-4000', 'FT934-8726', 'FBIS3-28050', 'LA121090-0059', 'FBIS3-4759', 'LA052790-0045', 'FBIS3-26559', 'LA041190-0122', 'FT942-15691', 'FBIS4-12254', 'FR941020-2-00113', 'LA080389-0148', 'LA092590-0095', 'FR940616-2-00123', 'LA112090-0163', 'LA110289-0086', 'FT942-3108', 'LA082489-0170', 'LA050590-0015', 'LA122489-0172', 'FR940426-2-00064', 'FBIS4-34096', 'FT943-1862', 'LA042089-0107', 'LA121089-0056', 'LA041690-0089', 'LA042190-0094', 'FT934-10124', 'LA051590-0142', 'LA080689-0180', 'LA081490-0145', 'FT944-18249', 'FBIS4-51987', 'LA030989-0133', 'LA012890-0118', 'FT941-17632', 'LA070290-0099', 'LA041790-0175', 'FT943-343', 'LA020890-0265', 'LA010790-0005', 'FT943-7094', 'LA112790-0032', 'FT944-10618', 'LA060390-0104', 'FT934-12950', 'LA021289-0195', 'FBIS4-22223', 'LA011990-0183', 'FBIS4-7044', 'LA073090-0106', 'FR940118-0-00079', 'LA010890-0099', 'LA111890-0107', 'LA020289-0153', 'LA033190-0099', 'FBIS3-4695', 'LA122290-0111', 'FBIS4-4319', 'LA011289-0187', 'LA082489-0068', 'FBIS4-40005', 'LA013189-0121', 'FR940620-2-00099', 'LA051490-0093', 'FT932-7248', 'LA081789-0164', 'LA053089-0063', 'FT932-2169', 'FT931-10310', 'FBIS3-2546', 'LA102090-0141', 'FT923-530', 'FBIS4-29327', 'LA071689-0123', 'FT923-6163', 'FBIS3-59520', 'FT923-14922', 'LA010889-0142', 'FT922-5950', 'LA031989-0205', 'FT924-10341', 'LA030890-0242', 'LA042189-0106', 'LA041990-0135', 'LA062490-0153', 'FBIS4-54677', 'FT943-1287', 'FBIS3-61381', 'LA032989-0004', 'LA022590-0033', 'LA010489-0118', 'FT944-6966', 'LA050989-0141', 'LA081789-0187', 'LA011589-0014', 'LA043089-0177', 'FT943-8067', 'FT923-14688', 'FT933-4867', 'FBIS4-22932', 'LA101989-0126', 'LA020690-0002', 'LA042690-0004', 'LA020390-0099', 'LA011289-0020', 'LA091989-0116', 'FBIS4-13538', 'FT911-3865', 'FBIS4-35174', 'LA020789-0111', 'LA072589-0030', 'FT944-12941', 'LA021289-0043', 'LA062690-0109', 'LA122789-0031', 'FBIS3-23911', 'LA121089-0071', 'FT931-613', 'LA112690-0041', 'LA050489-0001', 'FBIS4-45067', 'FBIS4-47597', 'FT932-15611', 'LA061489-0016', 'FT942-9450', 'FBIS3-45379', 'LA041689-0056', 'LA071489-0125', 'FBIS3-15280', 'LA121189-0118', 'FT924-7970', 'FBIS3-59498', 'LA040289-0003', 'LA091290-0179', 'LA012689-0133', 'FT942-6619', 'FR940719-2-00086', 'LA110990-0127', 'LA050890-0073', 'LA030590-0010', 'LA022489-0052', 'FBIS3-16758', 'FT922-9041', 'LA121490-0014', 'LA110390-0107', 'FBIS4-43875', 'FT943-5422', 'LA112589-0140', 'FT941-11856', 'LA052590-0116', 'LA052089-0118', 'FT942-12474', 'LA123190-0018', 'LA100289-0067', 'FT933-10929', 'LA050789-0118', 'LA052189-0030', 'LA092389-0156', 'LA061290-0083', 'LA060389-0059', 'LA110189-0040', 'LA101790-0107', 'FBIS4-5167', 'LA020390-0018', 'LA033190-0007', 'LA020590-0078', 'LA011690-0143', 'LA091390-0110', 'FT942-3885', 'LA070190-0060', 'FT911-4165', 'FT931-7586', 'FBIS4-36323', 'LA080990-0152', 'LA011890-0023', 'LA072690-0178', 'LA011690-0056', 'FT944-2172', 'FT944-1962', 'FBIS3-44950', 'LA092290-0153', 'FT934-12938', 'FT923-1758', 'FBIS4-68550', 'FBIS3-59325', 'FT921-15185', 'FR940916-2-00090', 'FBIS3-51020', 'FT921-1601', 'LA011190-0034', 'LA082890-0054', 'FT921-5258', 'FBIS3-48459', 'LA120189-0204', 'LA050389-0093', 'LA033089-0140', 'LA101790-0130', 'FT942-6981', 'LA080590-0102', 'LA081890-0143', 'FT944-604', 'FT922-6427', 'LA031789-0064', 'LA040789-0109', 'LA122989-0009', 'FT944-9860', 'LA110490-0087', 'LA021089-0092', 'FT931-4669', 'FT944-8010', 'LA051989-0181', 'FT923-11138', 'LA081390-0085', 'FT932-5916', 'FBIS3-24045', 'FT942-5160', 'LA110289-0137', 'FT942-8848', 'FT943-4356', 'LA021390-0115', 'LA121289-0002', 'FT922-5696', 'LA012190-0064', 'LA082289-0042', 'LA100590-0088', 'FT942-9524', 'LA032390-0106', 'FT943-2663', 'LA062589-0048', 'FT932-14872', 'FT943-1339', 'FBIS4-44915', 'LA032890-0034', 'LA111190-0149', 'LA081690-0223', 'LA050690-0197', 'FT932-14445', 'LA112690-0020', 'FBIS3-30076', 'FBIS4-58984', 'FT934-1473', 'FBIS3-61182', 'FT924-7643', 'LA052090-0104', 'LA022390-0065', 'LA071889-0036', 'FT942-7405', 'LA102289-0014', 'LA050490-0205', 'FT941-4063', 'LA110690-0029', 'FBIS3-21262', 'LA040990-0021', 'LA121790-0093', 'LA111289-0211', 'FT941-4930', 'LA041590-0134', 'LA051689-0156', 'LA010790-0024', 'LA070790-0146', 'LA051089-0059', 'LA102190-0030', 'LA041490-0102', 'FBIS4-5955', 'FBIS3-42740', 'FT911-1496', 'FT932-5453', 'FT923-485', 'LA092590-0086', 'LA121389-0031', 'FT934-4275', 'FT922-13264', 'FR941213-2-00086', 'FT921-4708', 'FT921-9900', 'FT931-7732', 'FT911-3729', 'FBIS4-44296', 'LA081790-0089', 'FT942-2360', 'LA040190-0194', 'LA051089-0095', 'FT922-1302', 'LA071489-0145', 'LA101490-0029', 'LA020789-0080', 'LA091590-0147', 'FT933-9971', 'FT924-11401', 'LA120990-0157', 'LA021489-0055', 'LA072190-0060', 'LA101690-0122', 'LA050590-0160', 'FT934-4197', 'FT933-6076', 'FBIS3-24157', 'LA052089-0030', 'FBIS3-57735', 'LA040589-0014', 'LA041189-0134', 'LA032189-0145', 'LA090990-0017', 'LA031990-0012', 'FT931-16991', 'LA111289-0099', 'FT932-16153', 'FT931-15606', 'LA010690-0143', 'LA051790-0258', 'FT941-3442', 'LA021289-0005', 'LA090790-0096', 'FBIS3-39216', 'LA052889-0021', 'FBIS4-61624', 'LA060989-0043', 'FBIS4-34311', 'LA072089-0106', 'FBIS4-60554', 'LA040290-0122', 'LA103190-0092', 'LA071590-0115', 'LA011490-0010', 'FT923-8507', 'LA110290-0137', 'LA052690-0015', 'LA030790-0138', 'FT941-12401', 'LA021089-0053', 'LA031890-0198', 'FT942-2831', 'FT943-15609', 'LA030489-0044', 'FBIS4-7176', 'FBIS4-62692', 'FT932-7295', 'FT924-7973', 'FBIS3-29826', 'FT921-11547', 'FT931-9639', 'FBIS3-24446', 'LA072090-0082', 'LA040290-0098', 'LA042690-0250', 'FT922-14485', 'LA010790-0068', 'LA100389-0126', 'FT943-10010', 'LA091690-0219', 'FBIS4-40528', 'FT934-15736', 'FT933-11265', 'LA121789-0096', 'FT944-13826', 'LA032290-0045', 'FT931-356', 'LA011889-0001', 'LA080990-0154', 'LA112189-0115', 'FT941-1070', 'FBIS3-16576', 'FT922-13051', 'FT931-1934', 'LA070789-0058', 'FT941-17056', 'LA040890-0022', 'FBIS4-28878', 'FBIS3-54409', 'LA052689-0018', 'LA050989-0067', 'LA101889-0017', 'LA072789-0169', 'LA042389-0072', 'LA081489-0020', 'LA040890-0123', 'FT932-11222', 'FT911-3173', 'FT944-11895', 'FT942-3884', 'FBIS4-32794', 'LA102090-0144', 'FT944-10879', 'FT923-2890', 'LA032990-0126', 'LA122189-0224', 'FT931-13335', 'LA030489-0105', 'LA091190-0039', 'LA082289-0123', 'LA052790-0172', 'LA111889-0040', 'LA121790-0091', 'LA031989-0087', 'LA092989-0126', 'LA042990-0049', 'LA030490-0155', 'LA081290-0002', 'FT934-12736', 'LA043090-0128', 'FT923-6375', 'LA042690-0065', 'LA042389-0007', 'FBIS4-29913', 'FBIS4-16993', 'FBIS3-9215', 'FT932-1011', 'LA060890-0162', 'LA122789-0084', 'LA051790-0125', 'FBIS4-53594', 'FR940620-1-00039', 'FBIS4-40371', 'LA012989-0120', 'FT934-6101', 'FT932-14427', 'FT943-16334', 'LA072290-0028', 'FBIS4-1984', 'FBIS3-35855', 'LA112889-0034', 'LA031690-0169', 'LA120289-0026', 'FT943-6504', 'LA011189-0083', 'LA122789-0002', 'FT934-5036', 'LA113090-0058', 'FT933-13512', 'LA010290-0005', 'LA051890-0001', 'LA012789-0162', 'FBIS4-38932', 'FBIS3-36818', 'LA072490-0018', 'FR940118-0-00061', 'FT941-7937', 'FBIS3-54852', 'FBIS3-55145', 'LA051590-0157', 'FBIS4-200', 'LA102689-0113', 'FT932-4706', 'LA080790-0017', 'LA010889-0091', 'LA041690-0002', 'FT932-2800', 'FT941-916', 'FT941-5051', 'LA011189-0140', 'LA032489-0003', 'FBIS4-30656', 'LA031690-0020', 'LA062589-0067', 'FT932-9207', 'LA100789-0011', 'FT932-127', 'LA041990-0022', 'FT942-1067', 'FT924-396', 'FT934-16042', 'FT942-12987', 'LA071689-0013', 'FBIS4-10305', 'LA031989-0213', 'LA081990-0046', 'FT931-9451', 'LA050690-0051', 'LA120389-0008', 'FT924-4988', 'LA110490-0025', 'FT932-9496', 'LA083190-0078', 'FT924-394', 'FT921-9981', 'LA091290-0039', 'LA112190-0121', 'LA050789-0011', 'LA061389-0095', 'LA110689-0028', 'LA011489-0028', 'LA120790-0043', 'LA041189-0124', 'LA120689-0108', 'LA032189-0142', 'FBIS4-12737', 'FBIS4-68484', 'FBIS4-17759', 'FT933-11035', 'LA062590-0009', 'LA120889-0002', 'LA020290-0202', 'LA082789-0197', 'FBIS4-36810', 'FBIS3-5420', 'LA080690-0139', 'LA122390-0153', 'LA070590-0146', 'LA011489-0014', 'LA042890-0051', 'FBIS3-42487', 'FT934-6826', 'FT922-13164', 'LA082290-0153', 'FT941-10989', 'LA080389-0143', 'LA092289-0130', 'LA082590-0093', 'LA100889-0031', 'FT933-344', 'FT922-6596', 'FBIS4-63177', 'LA081690-0250', 'LA061290-0014', 'LA032790-0164', 'LA082490-0129', 'LA083190-0018', 'LA043089-0029', 'FBIS3-49480', 'LA052789-0090', 'LA051090-0045', 'LA072290-0083', 'FT923-4455', 'FBIS4-34513', 'LA021889-0147', 'FBIS4-54224', 'FT924-11205', 'LA050890-0075', 'FT942-14488', 'FT911-4141', 'LA032790-0163', 'LA080590-0015', 'FBIS4-17713', 'FT934-2005', 'FT941-14495', 'LA092090-0192', 'LA080890-0144', 'LA042290-0077', 'LA031190-0144', 'LA062689-0065', 'LA111589-0090', 'FT944-8013', 'LA032489-0072', 'LA120189-0203', 'LA051290-0132', 'LA072290-0025', 'LA100989-0022', 'LA112390-0083', 'FBIS3-53866', 'FBIS4-6258', 'LA101989-0032', 'LA110589-0055', 'FT923-6519', 'FT941-9294', 'FBIS3-37376', 'LA103190-0141', 'FBIS3-40374', 'LA082789-0055', 'FT943-15199', 'LA012289-0037', 'LA011190-0006', 'LA101890-0096', 'LA102890-0233', 'LA080789-0084', 'FBIS3-23500', 'FT933-10180', 'FBIS4-11373', 'FBIS4-62225', 'FT924-7526', 'LA060689-0054', 'FT942-932', 'FT931-14944', 'FT934-15622', 'LA032789-0070', 'FT943-522', 'FBIS3-55438', 'FT934-12073', 'LA050289-0107', 'LA043089-0115', 'LA082690-0218', 'LA040890-0035', 'LA100689-0140', 'FBIS3-17422', 'LA061090-0014', 'FBIS4-17634', 'FT944-11317', 'FT923-13070', 'FBIS3-46712', 'FBIS4-68411', 'LA011490-0128', 'LA100589-0054', 'LA051090-0154', 'FBIS4-4823', 'FT923-10312', 'FT943-11854', 'FBIS4-67671', 'FT923-1521', 'LA052690-0017', 'LA082889-0102', 'FT934-2441', 'FR940707-2-00117', 'LA070689-0010', 'LA040289-0157', 'FBIS3-6931', 'LA022090-0124', 'FT941-9190', 'FT922-10416', 'LA082690-0092', 'FBIS4-61416', 'FBIS3-23987', 'LA031289-0108', 'FT934-12587', 'LA071689-0015', 'FBIS4-10754', 'FT924-6477', 'FBIS4-55198', 'LA062890-0013', 'LA031590-0190', 'FT933-11537', 'LA101390-0139', 'LA011589-0127', 'LA092089-0132', 'LA111789-0021', 'FBIS4-6261', 'LA030290-0151', 'FBIS3-3718', 'FBIS4-17072', 'FBIS3-23839', 'LA111889-0145', 'LA121590-0084', 'FT931-4951', 'LA061590-0014', 'FT923-6374', 'LA101790-0168', 'FT924-14010', 'FBIS4-66310', 'LA032190-0162', 'LA010790-0207', 'FBIS3-46494', 'FT931-747', 'LA061690-0039', 'FR940513-2-00086', 'LA022690-0100', 'FBIS3-46727', 'LA100289-0059', 'FT921-12611', 'FBIS4-52944', 'FT923-4336', 'LA021990-0027', 'LA061690-0087', 'FBIS4-29959', 'LA110890-0220', 'LA062990-0126', 'LA031390-0137', 'LA122289-0175', 'FT933-599', 'FBIS4-51748', 'LA041790-0117', 'LA021789-0003', 'LA021190-0038', 'LA040190-0186', 'LA042990-0056', 'LA120890-0023', 'FR940318-2-00281', 'LA102890-0123', 'LA110189-0149', 'FBIS4-28888', 'FBIS4-1819', 'FT923-1952', 'FBIS4-52318', 'LA052089-0028', 'FT931-8710', 'FT921-4886', 'FT931-13451', 'FBIS3-26490', 'FT941-17645', 'LA071689-0193', 'LA051790-0063', 'LA021190-0010', 'FBIS3-1743', 'LA070190-0115', 'FT941-2439', 'LA100289-0087', 'FT933-12275', 'LA020890-0030', 'LA111190-0007', 'FBIS3-2241', 'LA031090-0157', 'LA031090-0107', 'FT932-10246', 'FT943-190', 'FT944-9659', 'LA122989-0132', 'FBIS3-2939', 'FBIS4-5011', 'LA040690-0077', 'FT933-12222', 'FT944-5343', 'FBIS4-5349', 'LA091890-0143', 'FBIS3-49872', 'FBIS4-52214', 'FT931-2149', 'FT942-6096', 'FBIS4-17690', 'FT931-7275', 'FT932-7628', 'FBIS3-46950', 'FT944-14966', 'FBIS3-51401', 'FT922-182', 'FT942-2704', 'FT943-2520', 'FT931-4406', 'LA100789-0019', 'LA031190-0062', 'FT931-15107', 'FBIS3-44527', 'FBIS3-20638', 'FT932-15785', 'FT924-6276', 'FT923-15377', 'FBIS4-53542', 'FT931-7918', 'FT924-3582', 'FBIS3-26945', 'FT943-2522', 'FBIS4-51089', 'LA071590-0220', 'FBIS4-752', 'LA112290-0167', 'FBIS4-63934', 'FT921-10343', 'FBIS3-58763', 'FBIS3-43023', 'FBIS3-42985', 'LA072890-0104', 'LA100590-0005', 'FBIS4-25228', 'LA110689-0006', 'FBIS3-12894', 'FT931-8394', 'FBIS4-31365', 'LA071489-0112']\n",
            "['FT922-14532', 'FR940805-1-00109', 'FR940805-1-00098', 'FR940722-1-00052', 'FR940711-2-00084', 'FBIS4-20607', 'FR940425-2-00066', 'FR940803-0-00076', 'FBIS4-24957', 'FR940805-1-00086', 'FR940114-1-00051', 'LA050390-0171', 'LA011289-0097', 'FBIS3-24620', 'FBIS3-61565', 'FR940404-2-00168', 'FR940805-1-00087', 'FR940513-2-00096', 'FR940323-2-00092', 'LA090990-0122', 'FR941027-2-00067', 'FR941021-2-00088', 'LA061790-0021', 'FR940112-2-00076', 'FR940926-0-00037', 'FR940318-2-00115', 'FR941213-0-00013', 'FR940128-1-00121', 'FR941221-2-00127', 'FR941221-2-00130', 'FR941221-2-00131', 'FR940919-2-00198', 'LA020490-0059', 'FR940816-2-00056', 'FR940318-2-00117', 'FR940617-2-00109', 'FR940106-2-00080', 'FT942-4343', 'FR940620-1-00018', 'LA120789-0002', 'FT911-2956', 'FR940324-2-00045', 'FR940217-1-00134', 'FBIS4-22952', 'FBIS4-22954', 'FBIS4-3986', 'FBIS4-67881', 'FR940930-2-00070', 'FR940927-2-00072', 'FR941003-2-00068', 'FT931-14745', 'FBIS3-26696', 'FR941213-0-00014', 'FR940712-2-00058', 'FR940418-2-00093', 'FR941019-2-00204', 'FR940719-2-00088', 'FR940425-2-00065', 'FT923-8661', 'FR940413-0-00043', 'FBIS4-31861', 'FBIS3-61578', 'FR940919-2-00063', 'FR940620-1-00019', 'FR940831-2-00065', 'FBIS4-48522', 'FR940805-1-00124', 'LA042589-0096', 'FR941220-0-00013', 'FR940106-2-00079', 'FR941213-0-00006', 'FR940317-2-00067', 'LA090989-0028', 'FR940527-0-00060', 'FT931-8081', 'FBIS4-24690', 'FR940513-2-00102', 'FR940805-1-00073', 'FT923-6382', 'FR940413-0-00044', 'FR940803-0-00094', 'FR940114-1-00054', 'FR940607-2-00040', 'FBIS4-22955', 'FR940525-1-00049', 'FR940712-2-00059', 'FR941028-2-00073', 'FR940628-2-00052', 'FR941205-2-00023', 'FBIS4-50315', 'FR940425-2-00069', 'FR940523-2-00072', 'FR940720-2-00100', 'FR940527-1-00247', 'FR940526-2-00037', 'FR940428-2-00125', 'LA041689-0028', 'FR940114-1-00029', 'LA102190-0046', 'LA091789-0196', 'FR940418-2-00086', 'FR940303-2-00055', 'FBIS4-31994', 'LA061090-0065', 'LA033189-0153', 'FR940114-1-00023', 'FR940919-2-00065', 'FBIS4-31112', 'FR941220-0-00026', 'FR940324-2-00061', 'FBIS4-22953', 'LA040389-0022', 'FBIS3-21291', 'LA062289-0204', 'LA120389-0223', 'FBIS3-26665', 'FT934-13265', 'FT921-10119', 'FT933-5514', 'LA031190-0087', 'FR940527-1-00233', 'FR940711-2-00085', 'FR940830-2-00071', 'LA080790-0120', 'LA021389-0009', 'LA030890-0131', 'FBIS4-49441', 'LA080990-0141', 'FR940428-2-00124', 'FR941221-2-00128', 'FR940928-2-00109', 'FR940426-1-00105', 'FR940406-0-00083', 'FR940217-2-00049', 'FR940106-2-00081', 'FR940114-1-00022', 'FR940324-2-00070', 'FR940620-1-00017', 'LA080890-0009', 'FR940223-2-00087', 'LA031090-0131', 'FR940406-0-00086', 'FBIS3-21251', 'FT923-14112', 'FR940505-1-00011', 'FR940114-1-00060', 'LA051089-0072', 'FT931-6542', 'FR940927-2-00070', 'FR940114-1-00025', 'FT923-14114', 'FR940325-2-00133', 'FR941220-0-00012', 'FT921-9725', 'LA051189-0167', 'FR940721-2-00041', 'FT933-1431', 'FT933-2669', 'FR941220-0-00038', 'FR941202-0-00179', 'FR940722-2-00061', 'LA043089-0093', 'LA100289-0049', 'FT921-956', 'LA030590-0053', 'LA030589-0135', 'FR940930-0-00065', 'FBIS4-67708', 'FBIS4-67691', 'FR940324-2-00072', 'FR940620-1-00027', 'FR940404-2-00098', 'FBIS4-45909', 'FBIS4-50278', 'FR940826-2-00054', 'FT924-4055', 'FR940725-2-00044', 'FR940525-1-00055', 'FR940805-1-00111', 'FR940406-2-00074', 'LA022090-0023', 'FR940405-2-00076', 'FR940217-1-00135', 'FT932-4943', 'LA121990-0057', 'FR940406-0-00109', 'FT942-8038', 'FBIS4-48641', 'FR940525-1-00056', 'FT921-7582', 'FT941-12410', 'LA030589-0109', 'FR940217-2-00067', 'FR940819-1-00024', 'FR940620-0-00055', 'FR940425-2-00059', 'FR940830-2-00070', 'FT921-10156', 'FR941128-2-00037', 'FR940425-2-00070', 'FR940927-2-00034', 'FR941130-0-00091', 'FT922-4143', 'FT934-10260', 'FT924-3525', 'FR940728-2-00087', 'FBIS4-68603', 'FBIS4-47248', 'LA092290-0105', 'FR940613-2-00067', 'FR940719-2-00094', 'LA100390-0056', 'FT943-760', 'LA122889-0059', 'FR940525-0-00032', 'FR940114-1-00059', 'FR940620-1-00016', 'FBIS4-25976', 'LA081689-0124', 'FR940720-2-00107', 'FT924-8428', 'FR940318-2-00122', 'FBIS4-9486', 'FR940525-1-00051', 'LA052390-0128', 'FR940112-2-00069', 'FR940323-2-00095', 'LA111490-0032', 'LA102989-0162', 'LA100490-0075', 'FR941206-2-00058', 'FR940216-2-00025', 'LA112890-0085', 'FT924-9331', 'FR940722-2-00070', 'FR940928-2-00041', 'FR940504-2-00057', 'LA080590-0053', 'FR940919-2-00068', 'LA022589-0099', 'LA052889-0113', 'FBIS4-24635', 'FR940525-1-00048', 'FR941207-0-00076', 'FR941003-2-00096', 'FR941128-2-00036', 'FBIS3-61570', 'FR941213-0-00015', 'FR940214-0-00084', 'FR940603-2-00046', 'FT933-2298', 'LA010589-0067', 'LA050389-0010', 'FR940825-2-00070', 'FR940711-2-00083', 'LA111190-0048', 'FT921-13480', 'FR940927-2-00071', 'FR940516-2-00055', 'FR940525-1-00047', 'FR940523-2-00075', 'FT943-16910', 'FR940803-1-00039', 'FR941011-2-00092', 'FR940720-2-00099', 'FR941027-2-00069', 'FT921-9578', 'LA072889-0140', 'LA050989-0119', 'FT941-12371', 'FR940513-1-00025', 'FR940513-2-00103', 'LA020490-0069', 'FT921-11694', 'FR940428-2-00086', 'FR940111-2-00052', 'FBIS4-22875', 'LA012889-0006', 'FR940804-2-00088', 'FR941230-0-00022', 'FR940425-0-00020', 'FR940616-0-00128', 'FBIS3-22572', 'FR940425-2-00068', 'FR940527-1-00249', 'FBIS4-30637', 'FR941128-2-00179', 'LA013090-0110', 'FR941013-2-00073', 'FR940114-1-00042', 'FT933-10024', 'FBIS4-49151', 'FBIS4-67962', 'FR940906-2-00059', 'FR940819-0-00042', 'FT921-12419', 'FR941028-2-00210', 'LA121689-0044', 'FBIS4-22630', 'LA040990-0065', 'FR940428-2-00088', 'LA012590-0136', 'FR940112-2-00075', 'LA102090-0038', 'LA121290-0132', 'FR940830-2-00068', 'FT944-17957', 'FR940617-2-00110', 'LA061089-0052', 'FBIS4-49690', 'FR940825-2-00071', 'FBIS3-59083', 'FBIS3-22461', 'FR940406-2-00073', 'FR940203-1-00063', 'FR940214-2-00041', 'FR940426-2-00053', 'FT941-11331', 'FR940712-2-00057', 'FT934-16759', 'FT921-7527', 'FT923-14077', 'LA111590-0040', 'FBIS3-27486', 'LA011290-0143', 'LA010590-0094', 'FT934-3351', 'FR940722-2-00068', 'LA092689-0079', 'FT924-7958', 'LA072890-0137', 'FR941117-1-00017', 'FBIS4-7106', 'FT924-2065', 'FT944-16789', 'FBIS3-21252', 'LA081290-0135', 'FR940620-0-00053', 'FBIS3-60445', 'FT933-16483', 'FR940706-2-00087', 'FR940524-1-00013', 'FR940527-0-00061', 'FR940926-0-00036', 'FR940725-2-00051', 'FT911-252', 'FR940620-1-00020', 'FBIS3-22693', 'FR940803-0-00075', 'FBIS3-20404', 'FR940930-0-00101', 'FR940603-2-00049', 'LA030390-0091', 'FT943-13829', 'FT924-11463', 'FBIS4-21673', 'FR940323-2-00079', 'FR940428-2-00089', 'LA032289-0094', 'FR941230-0-00023', 'FT941-2761', 'FR940527-1-00251', 'LA122089-0059', 'FT944-10853', 'FR940803-0-00079', 'FT941-10475', 'FT941-16404', 'FR940728-2-00092', 'LA101389-0151', 'LA111089-0150', 'LA020590-0033', 'FR941221-2-00129', 'FR940620-2-00115', 'FR940106-2-00084', 'FT932-4019', 'FT941-17403', 'FR940620-2-00042', 'LA042690-0220', 'FT921-15953', 'LA021390-0016', 'LA043089-0061', 'LA112590-0021', 'FR941004-1-00037', 'FR940913-2-00055', 'FT944-17213', 'FR940406-2-00135', 'FR940405-1-00038', 'FBIS3-60504', 'FR940224-2-00095', 'FR940711-2-00103', 'FR940114-1-00043', 'FR940830-2-00069', 'FR940404-2-00099', 'LA032489-0014', 'FR940912-1-00081', 'FR940217-2-00050', 'FBIS3-51279', 'FT922-1200', 'FR940524-1-00011', 'LA061990-0128', 'FR940317-2-00068', 'FR940906-2-00049', 'FR940610-2-00079', 'FT943-16908', 'LA092089-0124', 'FT934-2115', 'FBIS4-5523', 'FT911-1944', 'FR941220-0-00037', 'FT924-16069', 'FR940930-2-00055', 'FT943-2713', 'FT911-2589', 'LA082990-0043', 'FR940324-2-00064', 'FT921-7794', 'FR941219-2-00073', 'FT921-704', 'FR941220-0-00030', 'FBIS4-19921', 'FBIS3-22545', 'FT923-6887', 'FR941028-2-00163', 'FT941-10815', 'FR940906-2-00048', 'LA110189-0018', 'FR941028-2-00181', 'FT933-1742', 'FR940620-1-00021', 'LA080590-0161', 'FBIS4-24888', 'FR940620-2-00040', 'FR940725-2-00048', 'FBIS3-3199', 'FBIS4-24567', 'LA113090-0147', 'FT932-3560', 'FBIS3-22852', 'FR940429-2-00041', 'FR940426-2-00052', 'FT923-14436', 'LA051790-0202', 'FBIS3-22625', 'FT931-15279', 'FR940525-2-00040', 'FR940323-2-00090', 'LA113090-0001', 'FT933-2545', 'FR941028-2-00213', 'FT921-180', 'FR940712-2-00065', 'LA080689-0058', 'LA120690-0111', 'FR940607-0-00046', 'LA041190-0004', 'LA090389-0087', 'FBIS3-22556', 'FBIS3-3163', 'FR941230-0-00015', 'FR940413-0-00045', 'FR940426-2-00088', 'FR940323-2-00088', 'LA020990-0100', 'FT921-5989', 'FBIS4-51022', 'FR940825-2-00076', 'FR940318-2-00128', 'LA061289-0041', 'LA012890-0186', 'FBIS4-22862', 'FR940217-2-00068', 'FR940926-2-00093', 'LA013189-0141', 'FT934-11845', 'LA022289-0107', 'FBIS3-22514', 'LA060890-0168', 'FT931-16019', 'FT923-4512', 'LA091890-0004', 'LA041190-0046', 'FR941220-0-00044', 'FT932-39', 'LA011289-0178', 'LA061790-0043', 'FR940930-0-00100', 'LA102289-0219', 'FR940428-2-00087', 'FR940104-2-00032', 'FR940812-0-00048', 'LA071789-0008', 'FT934-12727', 'FBIS4-34350', 'FR940405-2-00062', 'FR940926-0-00038', 'FT941-10321', 'FR940216-2-00020', 'LA121390-0058', 'FBIS4-59157', 'FR940426-1-00108', 'FR940526-2-00029', 'FR940323-2-00086', 'FBIS3-60503', 'FT932-422', 'FR941027-2-00076', 'FT932-170', 'LA073189-0003', 'FR940803-1-00041', 'FT931-8666', 'FT943-11624', 'FR940628-0-00011', 'FT921-8313', 'FR940526-2-00030', 'LA111789-0070', 'FR940426-2-00087', 'FT942-15029', 'FT933-15797', 'FR940406-0-00107', 'FT943-15565', 'FR940425-2-00102', 'FR940318-2-00112', 'FT932-11609', 'FR940630-2-00083', 'FR940930-0-00103', 'FR940324-2-00063', 'FR940620-2-00039', 'FR940831-2-00069', 'FBIS4-26366', 'FT933-3238', 'FR940318-2-00120', 'FR940324-2-00079', 'FBIS4-5176', 'LA080789-0031', 'LA050390-0173', 'FT942-14569', 'FR941230-0-00020', 'FT941-8776', 'FR940722-2-00121', 'FR940127-2-00155', 'FR940907-0-00021', 'FT943-8846', 'FR941230-0-00014', 'FR940523-2-00073', 'FR941205-2-00027', 'FBIS3-3813', 'FR940511-2-00099', 'FR941230-0-00012', 'FR940324-2-00071', 'FT942-4342', 'LA111989-0036', 'FR940425-2-00100', 'FT931-13763', 'FR940525-2-00041', 'FT921-12315', 'FR940303-1-00028', 'LA080589-0052', 'FBIS3-44438', 'FT942-14832', 'FT911-1673', 'FR940603-2-00063', 'FBIS3-43022', 'FBIS3-42984', 'LA080289-0120', 'FR940720-2-00052', 'FR940202-2-00058', 'FT944-3556', 'FR940906-2-00132', 'LA060489-0157', 'LA081989-0049', 'LA032990-0136', 'FR941213-0-00016', 'FT922-1552', 'FR941121-0-00074', 'FT923-6401', 'FBIS4-64649', 'LA011590-0015', 'FR941117-0-00027', 'LA043089-0115', 'LA021690-0112', 'FT943-3468', 'FR940128-2-00139', 'LA102689-0112', 'FT933-3029', 'FBIS3-43073', 'FT924-14513', 'FT932-14884', 'FR940621-0-00024', 'FR940621-0-00025', 'FR940114-2-00067', 'LA041490-0129', 'FR941230-0-00016', 'FT943-11863', 'FR941003-2-00200', 'FR941205-2-00025', 'FR940525-1-00060', 'FT933-2764', 'FR940713-2-00064', 'FR940711-2-00089', 'FR940516-2-00066', 'LA113090-0140', 'LA040589-0054', 'FR940324-2-00066', 'FR940303-0-00051', 'FT941-16536', 'FR940525-0-00034', 'FR940202-2-00055', 'FBIS3-13457', 'FR940617-2-00123', 'LA052090-0199', 'FT931-8924', 'FR941220-0-00021', 'FT944-9028', 'FR941116-1-00030', 'LA121690-0207', 'FT923-9641', 'FT921-11654', 'FT933-15869', 'FR940603-2-00064', 'FR940303-2-00067', 'LA102890-0085', 'LA121789-0096', 'FT931-570', 'FR941205-2-00026', 'FT943-10844', 'LA072589-0018', 'FR940819-0-00083', 'FR940916-2-00057', 'FT924-13220', 'LA041689-0016', 'FR940216-0-00012', 'FT933-1436', 'FR941220-0-00015', 'FR940524-1-00012', 'LA111989-0048', 'FR940303-2-00060', 'FBIS4-42612', 'FR940719-0-00036', 'FR940404-2-00157', 'FR940324-2-00062', 'FR941104-2-00041', 'FR941207-0-00079', 'LA042790-0080', 'LA080489-0126', 'FR940224-2-00121', 'FR940223-2-00133', 'FR940713-2-00063', 'FR941012-1-00058', 'FBIS3-43044', 'FR940620-2-00043', 'FR940713-2-00061', 'FBIS3-43043', 'FBIS3-43114', 'FR940920-2-00087', 'LA102489-0164', 'FR940720-2-00166', 'FT941-16916', 'LA021190-0173', 'FR940930-0-00066', 'FR940930-0-00105', 'FR940628-2-00112', 'FR940425-2-00096', 'LA021790-0106', 'FR940324-2-00054', 'FR940512-2-00050', 'FT933-6720', 'FT923-4846', 'LA100990-0006', 'FR940525-2-00189', 'LA071790-0092', 'FR941012-2-00076', 'FR940621-0-00043', 'LA100189-0101', 'FR941102-2-00112', 'LA092390-0113', 'FR940128-2-00147', 'FR940516-2-00057', 'FR941021-0-00183', 'FT942-11737', 'FR940314-2-00071', 'FBIS4-18312', 'FBIS3-22634', 'FR940112-2-00073', 'FBIS3-22515', 'FT941-12397', 'LA100890-0117', 'FR941116-0-00087', 'FR941220-0-00036', 'FT944-6249', 'FR940302-2-00059', 'FR940425-2-00078', 'FR940525-1-00077', 'FR941116-2-00115', 'LA012690-0010', 'FT944-1735', 'FR940214-2-00042', 'LA021289-0059', 'FT932-16608', 'LA080890-0136', 'FR940318-2-00124', 'LA042290-0201', 'FR940930-0-00104', 'FR940525-2-00195', 'FR940504-2-00047', 'FR940725-2-00046', 'FR940819-1-00027', 'LA102890-0195', 'FR940324-2-00145', 'FR940127-2-00157', 'FR940303-2-00189', 'FR940602-2-00147', 'FR940906-2-00060', 'FR940406-0-00108', 'LA062889-0006', 'FBIS3-41811', 'FR940425-2-00104', 'FR940505-2-00141', 'FR940505-2-00145', 'FR941012-2-00144', 'FR940127-2-00160', 'FT911-3368', 'LA092989-0090', 'FR940317-2-00107', 'FR940603-2-00060', 'LA030690-0103', 'FR940523-2-00130', 'FT921-8507', 'FR941212-0-00026', 'FR941021-2-00060', 'FT921-7536', 'FBIS4-61954', 'FR940725-2-00123', 'FR940805-2-00066', 'FBIS4-45906', 'FR940127-2-00166', 'FR940127-2-00163', 'FR940712-2-00062', 'FR940621-0-00022', 'FR940405-2-00168', 'LA062190-0043', 'FR940526-2-00086', 'FR941102-2-00114', 'FBIS3-49676', 'FT924-11739', 'FT921-5028', 'FR941121-2-00119', 'LA022890-0120', 'FBIS3-44071', 'FT911-5041', 'LA031689-0012', 'LA020490-0221', 'FR940516-2-00056', 'FR940713-2-00124', 'FT931-7525', 'LA100589-0159', 'LA073190-0109', 'LA062489-0128', 'LA122290-0068', 'FBIS4-67457', 'FR940617-1-00042', 'FT911-679', 'LA110289-0066', 'FT932-9637', 'FR940805-2-00071', 'FR940930-0-00106', 'LA011289-0162', 'FR941117-2-00054', 'FR941013-2-00071', 'FR940620-1-00029', 'FT941-8903', 'FT932-13736', 'FBIS3-51447', 'FR940930-0-00067', 'LA062690-0028', 'LA101789-0159', 'FBIS3-11323', 'FBIS3-2620', 'LA072890-0012', 'LA070990-0112', 'FR940620-1-00015', 'LA092290-0096', 'FR940223-0-00059', 'FBIS3-22463', 'FR940524-1-00014', 'FT911-870', 'FT942-14531', 'LA051289-0118', 'LA010189-0040', 'FR940819-1-00025', 'FR940323-2-00096', 'FR940126-2-00100', 'FT942-1620', 'FR941121-2-00065', 'FR941207-0-00078', 'FT922-13819', 'FR941012-1-00047', 'FR940114-1-00035', 'FR940725-2-00047', 'FR941004-0-00018', 'FT924-2862', 'FR940930-0-00070', 'LA100189-0053', 'FBIS3-56837', 'FBIS3-56585', 'FR940706-2-00141', 'FT933-6717', 'FT934-13248', 'FR940317-2-00105', 'FBIS3-22678', 'FR940128-2-00069', 'FR940627-2-00075', 'FR940527-1-00235', 'FR940114-1-00048', 'FT934-5082', 'FR940525-2-00187', 'FR940217-2-00069', 'LA050390-0206', 'LA112990-0145', 'LA042690-0002', 'FT921-12175', 'FBIS3-2762', 'LA072890-0127', 'FR940720-2-00169', 'FR940505-2-00143', 'FR941012-2-00141', 'FR940505-2-00136', 'FR941031-2-00090', 'LA092289-0125', 'FT944-10304', 'FR940916-1-00084', 'FR940812-0-00049', 'FR940406-0-00087', 'FR941206-2-00135', 'FR940525-2-00185', 'FR940525-2-00193', 'FR940928-2-00108', 'FBIS4-20667', 'LA120189-0097', 'FR940317-2-00109', 'LA110490-0112', 'FR941230-2-00117', 'FR940317-2-00104', 'FR940511-2-00212', 'FBIS3-22518', 'FR941003-2-00202', 'FR941202-0-00034', 'FR941121-2-00117', 'FR940104-2-00014', 'FR940324-2-00148', 'FR940926-0-00034', 'FR941206-2-00137', 'FR940406-0-00188', 'FR940810-2-00138', 'FR941221-2-00080', 'FR940222-1-00023', 'FR941028-2-00153', 'FR941027-2-00070', 'FR940930-0-00208', 'FR940722-2-00124', 'FR941121-2-00121', 'FR941004-0-00019', 'LA062989-0148', 'FR941027-2-00123', 'FR940513-2-00100', 'FR940525-2-00106', 'FR940927-2-00102', 'FBIS4-54862', 'FT911-2009', 'FT943-5783', 'LA100390-0166', 'FR940228-2-00048', 'FBIS3-22633', 'FR941102-2-00116', 'FR941012-2-00143', 'LA091489-0205', 'LA042189-0188', 'FR940202-2-00156', 'FR940913-0-00041', 'LA030589-0264', 'FR940222-2-00093', 'FT923-4076', 'FR941230-2-00118', 'FT911-2892', 'LA111589-0002', 'FBIS4-8012', 'FR941026-1-00010', 'FR941005-2-00019', 'FR940126-2-00054', 'FR940725-2-00130', 'FR941102-2-00118', 'FR940325-2-00226', 'FBIS3-22595', 'FT911-4114', 'FT911-2376', 'LA042189-0007', 'FT923-797', 'FR940916-2-00114', 'LA110989-0160', 'FT923-14548', 'FR940425-2-00106', 'FR940926-2-00099', 'FR941007-0-00060', 'FR940406-0-00096', 'FR940927-2-00100', 'FR940202-2-00089', 'LA091089-0102', 'LA071290-0003', 'FT934-6427', 'FR941028-2-00174', 'FT921-14203', 'FT941-5239', 'FR940505-2-00140', 'FBIS3-43113', 'FR940525-2-00108', 'LA021190-0052', 'FR940610-2-00023', 'FR941216-2-00180', 'FT943-12503', 'LA013089-0099', 'FR941012-1-00041', 'FR940216-0-00007', 'FR941207-2-00068', 'FR940525-2-00196', 'FR940525-2-00197', 'FR940817-2-00071', 'FT943-8720', 'LA052389-0040', 'LA012090-0099', 'FT932-2222', 'FR941222-1-00035', 'FR940527-1-00243', 'LA112290-0092', 'FT932-2596', 'FR940927-2-00036', 'FR941230-0-00017', 'FR941230-0-00024', 'FR940524-1-00015', 'FT911-4854', 'FR940525-1-00073', 'FR940630-2-00084', 'FR940216-0-00014', 'FR940516-2-00059', 'FT933-4664', 'LA082689-0081', 'FBIS4-67690', 'FBIS4-45715', 'FR940927-2-00101', 'FR940324-2-00146', 'LA041590-0081', 'FT933-7195', 'FT932-7740', 'FR940711-2-00086', 'FR941003-2-00057', 'FR941117-1-00008', 'FT934-6113', 'FR940616-2-00075', 'FT944-5300', 'FR940516-1-00043', 'LA061389-0100', 'FBIS4-10605', 'FT921-12075', 'LA112889-0095', 'FR941230-0-00013', 'FT934-12637', 'FT934-10524', 'FR940930-1-00053', 'FR940720-2-00097', 'FBIS4-45873', 'FR940325-2-00129', 'LA120189-0188', 'FR940728-2-00086', 'LA101090-0093', 'FR940425-2-00081', 'FR940628-1-00068', 'FR940603-2-00047', 'FR940819-2-00074', 'FT923-3432', 'FR940412-0-00015', 'FR941026-1-00011', 'FR940610-2-00188', 'FR940428-2-00097', 'FR941220-0-00024', 'FBIS3-41508', 'FR941230-2-00038', 'LA040789-0152', 'FR940603-0-00030', 'FR940819-1-00035', 'FR940930-0-00020', 'FR940817-2-00061', 'FBIS4-47578', 'FBIS3-58659', 'FR940119-2-00059', 'LA072189-0057', 'FR940328-2-00100', 'FR940920-2-00076', 'FT933-1178', 'FR940616-0-00041', 'FT934-2619', 'LA112190-0052', 'FR940826-1-00077', 'FR940627-2-00071']\n",
            "['FR940325-0-00017', 'FR940110-1-00055', 'FR940810-1-00050', 'FBIS3-26358', 'LA102189-0167', 'FBIS3-59362', 'FR940110-1-00058', 'FT944-14603', 'FR940810-1-00044', 'LA051889-0088', 'FBIS3-26731', 'FBIS4-44474', 'FBIS4-20377', 'FR940110-1-00089', 'FT942-16499', 'FT924-6324', 'FR940812-0-00068', 'FT944-6185', 'FBIS3-6482', 'FBIS3-29035', 'FR940110-1-00056', 'LA081189-0137', 'FT942-12346', 'FR940927-0-00088', 'FT944-8440', 'LA030989-0201', 'FT921-4189', 'FR940603-0-00121', 'FT924-3735', 'FR940610-1-00042', 'FT922-3033', 'FR940314-2-00008', 'FR940603-0-00141', 'LA061089-0086', 'FR940323-1-00037', 'FBIS4-44533', 'FBIS3-59370', 'FR941019-0-00031', 'FT932-13272', 'FR940323-1-00045', 'FT942-5384', 'FBIS3-59261', 'FR941007-1-00154', 'FBIS3-59262', 'FT942-5683', 'FR941007-1-00079', 'FR941019-0-00037', 'FR941230-0-00121', 'FT942-6669', 'FR941125-0-00014', 'FR940610-1-00046', 'FBIS4-46688', 'FR940323-1-00011', 'FR940610-1-00043', 'FR941007-1-00130', 'FBIS3-59316', 'FR940110-1-00093', 'FR940324-1-00069', 'FT911-3013', 'FR940630-0-00098', 'FT922-10141', 'FR940112-0-00076', 'FT931-3749', 'FR940526-2-00144', 'FT944-9985', 'FR940831-2-00176', 'FT921-12816', 'FBIS3-23963', 'FT944-8436', 'FR940831-2-00157', 'FR940513-0-00071', 'FT941-16018', 'FR941007-1-00104', 'FR941011-0-00042', 'FT922-11583', 'FBIS3-18640', 'FT921-4034', 'FR940902-0-00122', 'FT922-5493', 'FR941019-0-00033', 'FR940927-0-00089', 'FT942-12345', 'FR941019-0-00034', 'FT933-3763', 'FR940513-0-00072', 'FR941007-1-00145', 'FR940513-0-00065', 'FT943-10995', 'FT942-12342', 'LA060890-0112', 'FT944-6178', 'FBIS4-66282', 'FT941-6974', 'FR940207-2-00082', 'FT924-5095', 'FR940112-1-00031', 'FR940214-0-00061', 'FR940112-0-00096', 'FR941019-0-00025', 'FT943-14120', 'FR940805-1-00134', 'FR940526-2-00109', 'FR940513-0-00074', 'FR940323-1-00018', 'LA110190-0070', 'FR940610-1-00045', 'FT941-6980', 'FBIS3-4123', 'LA102789-0184', 'FBIS4-2713', 'FR940323-1-00038', 'FT943-1320', 'FT932-10425', 'FT932-761', 'FT932-14597', 'FT943-10556', 'FR940526-2-00097', 'FBIS4-22344', 'LA080389-0026', 'FR940630-0-00099', 'FT921-15837', 'FR940725-0-00073', 'FT933-13849', 'LA030990-0114', 'FT931-15934', 'FT944-9984', 'FR940419-1-00083', 'LA111790-0163', 'FBIS3-40329', 'LA100390-0070', 'FR941019-0-00038', 'FR940323-1-00009', 'FT934-13137', 'FR940927-0-00085', 'FR941230-0-00122', 'FR940830-1-00107', 'FT933-5155', 'FT932-15656', 'FT933-5160', 'FR941222-0-00045', 'FT922-7730', 'FBIS3-23836', 'FBIS3-20576', 'FT941-2594', 'FR940622-0-00012', 'FR941205-2-00145', 'FR940527-2-00212', 'FT924-11949', 'FT944-62', 'FR941011-2-00031', 'FR941219-2-00144', 'FT931-7883', 'FR940228-0-00063', 'FR940603-0-00122', 'FT942-12344', 'LA072390-0128', 'FR940404-1-00041', 'FT941-8409', 'FR940404-0-00060', 'FT921-4008', 'FT933-15042', 'FT933-1029', 'LA112890-0102', 'FT942-6670', 'FT932-13261', 'FR940831-2-00177', 'FBIS4-4108', 'FR940810-1-00045', 'FR940323-1-00013', 'FR940112-0-00099', 'FR941019-0-00035', 'FBIS4-66206', 'FR940610-0-00054', 'FR941007-1-00095', 'FR940323-1-00046', 'FR940810-1-00053', 'FR940902-0-00028', 'FR940323-1-00017', 'FT933-15043', 'FR940324-1-00068', 'FT942-8173', 'FBIS4-66277', 'FR940610-1-00039', 'LA030589-0235', 'LA032990-0206', 'LA030589-0238', 'LA041690-0032', 'FBIS4-2119', 'FT941-10336', 'FBIS3-20538', 'LA070890-0130', 'FR941019-0-00039', 'FBIS3-59363', 'FT942-5650', 'FR940323-1-00020', 'LA080690-0117', 'LA061190-0110', 'FT943-16724', 'FR940112-1-00032', 'FBIS3-51710', 'FR940725-0-00026', 'FR940920-2-00111', 'FR940110-1-00090', 'FT931-6878', 'FR940902-0-00055', 'FR940722-1-00017', 'FT942-5351', 'FT933-13826', 'FT932-3369', 'FR940610-1-00040', 'FR941011-2-00028', 'FT943-8407', 'FR940323-1-00024', 'FBIS3-6272', 'FT921-11783', 'FT942-1871', 'FR940725-0-00039', 'FBIS3-27362', 'LA101589-0087', 'FT943-1329', 'FT934-13134', 'FR940610-0-00053', 'FT934-13106', 'FT921-12830', 'FR941007-1-00172', 'FR941011-0-00034', 'FT931-3033', 'FR940110-1-00057', 'LA050589-0177', 'FT923-12690', 'FT943-13254', 'FT921-4319', 'LA050490-0175', 'FBIS3-26844', 'FR940810-1-00048', 'FBIS4-50044', 'FR940506-2-00032', 'FR940810-1-00052', 'FBIS3-42808', 'FBIS4-46836', 'FR940831-2-00146', 'FT931-10731', 'FT924-12824', 'LA071590-0197', 'LA010789-0040', 'FT931-6389', 'FT932-2209', 'FR941021-0-00050', 'FR941205-1-00031', 'LA102290-0047', 'FT921-11250', 'FT932-12676', 'FR940208-0-00003', 'FT941-6232', 'FR940805-1-00144', 'LA070189-0124', 'FBIS3-59274', 'LA032590-0203', 'FT944-6244', 'FT921-8323', 'LA121489-0123', 'FT941-9741', 'FR941227-0-00055', 'FR940110-1-00054', 'FT921-3385', 'FR941117-0-00011', 'FT932-16195', 'FR940830-1-00114', 'FT931-14674', 'LA101790-0055', 'FR940228-0-00061', 'FR940513-0-00075', 'FR940810-1-00047', 'FT941-13822', 'FR940323-1-00010', 'FT921-4021', 'FT933-2366', 'FT923-12530', 'FR940323-0-00099', 'FBIS3-61123', 'FR941222-0-00043', 'FT931-3186', 'LA030589-0234', 'FR940606-2-00065', 'FR941007-1-00053', 'FR940927-0-00087', 'FBIS3-28306', 'FR940526-1-00002', 'FBIS4-7989', 'FT933-16387', 'FBIS4-54359', 'FR940927-0-00084', 'FT932-5572', 'FT933-13005', 'FT931-8107', 'FT923-3319', 'FT941-6986', 'FR940112-1-00028', 'FT931-10734', 'FT934-17064', 'FR940323-1-00022', 'FR940725-0-00074', 'FT941-8617', 'LA010490-0165', 'FT932-13130', 'FR940112-0-00082', 'FBIS4-4236', 'FR940127-2-00132', 'FT934-9389', 'LA021589-0085', 'FT932-13268', 'FBIS4-22315', 'FR941020-2-00061', 'FT924-625', 'FR940127-2-00130', 'LA030290-0124', 'FT931-12161', 'FBIS3-44838', 'FT934-14412', 'FT934-8654', 'FT931-3026', 'FR941227-0-00048', 'FR940831-2-00168', 'FT932-3679', 'LA013190-0098', 'FR940622-0-00013', 'FT934-7309', 'FR940127-2-00131', 'FT921-15223', 'FT924-11987', 'FT923-5934', 'FT922-7735', 'FT943-14310', 'FR940317-1-00165', 'FT941-5578', 'FT943-10181', 'FR941012-1-00032', 'FT934-3249', 'FBIS3-52749', 'FBIS3-48253', 'FT933-2412', 'FT933-2740', 'FR940325-0-00015', 'FT922-9955', 'FR940323-1-00021', 'FR941227-0-00053', 'FT932-13267', 'FR940920-1-00014', 'FT922-12797', 'FT943-6397', 'LA101989-0143', 'FT931-6723', 'FR940526-2-00135', 'FBIS3-38480', 'FR940513-0-00066', 'FT934-7312', 'FT932-14592', 'FR940323-1-00033', 'FT921-2937', 'FT941-4942', 'FR941110-0-00321', 'FR940526-2-00137', 'FT931-8714', 'FR941007-1-00119', 'FT934-5035', 'FT944-7068', 'FR940526-2-00142', 'FT911-2928', 'FT911-2986', 'FR940902-0-00029', 'FR940725-0-00091', 'FR940419-0-00106', 'LA032890-0140', 'FT921-840', 'LA041990-0007', 'FR940324-1-00070', 'FR941007-1-00118', 'FT943-5440', 'FT932-2800', 'FR941007-1-00120', 'FT934-15755', 'FT934-13113', 'FT931-12165', 'FT924-11773', 'FBIS3-26581', 'FT922-11506', 'FR940706-0-00082', 'FR940223-2-00141', 'FBIS3-20542', 'FR940318-1-00031', 'FT944-18925', 'FT934-12281', 'FT921-1743', 'FBIS3-27865', 'FBIS4-41293', 'FT921-4007', 'FT933-1007', 'FBIS3-23789', 'FR940323-1-00016', 'FR941216-1-00065', 'FR940526-2-00096', 'FT934-4043', 'FT921-14110', 'FBIS3-26851', 'FR940406-2-00078', 'FR940630-0-00097', 'FR940323-1-00012', 'FT932-5052', 'FT934-5066', 'FR940610-0-00055', 'FT922-14771', 'FR941007-1-00170', 'FR940214-0-00062', 'FR940920-1-00009', 'FT932-16192', 'FT941-6993', 'LA041289-0144', 'FR940927-0-00083', 'FBIS4-44521', 'FT941-13106', 'FR940831-2-00145', 'FT942-6657', 'FT922-12332', 'FR940630-0-00110', 'FT933-12985', 'FR940727-0-00159', 'FT933-16388', 'LA072689-0103', 'FBIS4-3107', 'FR940831-2-00181', 'FBIS3-24263', 'LA090689-0110', 'FT921-1949', 'LA112990-0015', 'FT942-10034', 'FR940927-0-00090', 'FR940805-1-00137', 'FR941222-0-00126', 'FBIS3-26526', 'FT942-9567', 'FT932-13270', 'FR940805-1-00132', 'FT932-11652', 'FR940202-0-00089', 'FT921-4748', 'FR940419-1-00067', 'LA030589-0107', 'FT934-8678', 'FT943-4948', 'FR940110-1-00066', 'FBIS3-59296', 'FT932-10421', 'FR940912-0-00042', 'FT921-13904', 'FT923-10913', 'FT943-14180', 'FT932-14614', 'FT924-5345', 'FT921-16312', 'FR940622-2-00086', 'FR940318-0-00072', 'FT941-13511', 'LA022490-0056', 'FT944-17319', 'FR940325-0-00014', 'LA041090-0007', 'FT941-10605', 'FR940223-0-00030', 'LA090489-0006', 'FT933-16963', 'FT944-1866', 'FT944-2073', 'FR941227-0-00065', 'FT941-12983', 'LA012490-0075', 'FR940922-2-00019', 'LA102490-0042', 'LA070190-0158', 'FT911-4974', 'FT942-14430', 'LA012990-0099', 'LA103190-0166', 'FT921-1938', 'FBIS4-9636', 'FT921-1827', 'FBIS4-6444', 'FR940613-1-00007', 'LA102790-0126', 'FR941021-0-00121', 'FR940831-2-00182', 'FR940317-0-00045', 'FR940323-1-00041', 'FR940722-1-00018', 'FT932-8332', 'FBIS3-24305', 'FT911-4202', 'LA050990-0010', 'FT933-12492', 'FT941-2593', 'FT944-11495', 'FT923-3631', 'LA061090-0101', 'FBIS4-47128', 'FR940112-2-00087', 'FT933-9736', 'LA070390-0082', 'FT924-14635', 'FT921-5851', 'FT921-12829', 'FR941205-2-00131', 'FR941007-1-00094', 'FR941007-1-00143', 'LA090389-0119', 'FR940725-0-00024', 'LA112590-0034', 'LA092689-0019', 'FR941020-2-00060', 'FT941-14640', 'FR940830-1-00106', 'FR940902-1-00088', 'FT933-13828', 'FT941-13257', 'LA052790-0179', 'FT933-10952', 'FR941110-0-00325', 'FR940323-1-00042', 'FT923-12956', 'FR941107-2-00047', 'FT941-13933', 'FR941227-0-00057', 'FT944-5204', 'FBIS4-39597', 'FR940110-1-00064', 'FR940826-1-00032', 'FT943-13965', 'FT942-9469', 'LA080990-0137', 'FBIS3-20537', 'FT944-15012', 'FT911-2913', 'FR940922-0-00042', 'FT933-15217', 'FT933-13002', 'FR940513-0-00073', 'FT921-8756', 'FBIS4-33791', 'FT933-12479', 'LA081389-0088', 'FT924-14227', 'FT941-5532', 'FR940711-0-00078', 'FT931-10729', 'FT942-12341', 'FT933-8051', 'FT924-11928', 'FT924-5019', 'FT921-10406', 'FT932-3988', 'LA102789-0018', 'FBIS4-45778', 'FT934-13460', 'FR940110-1-00097', 'FT933-13827', 'LA022689-0045', 'FT943-15024', 'FT944-60', 'FT922-11514', 'FT943-15578', 'FR940810-1-00051', 'FT933-12304', 'FR940826-0-00043', 'FT921-1934', 'FR941007-1-00056', 'LA090790-0005', 'FT934-8655', 'FR940419-1-00082', 'FT941-17620', 'FT941-12659', 'FBIS3-7092', 'FT911-4847', 'FT924-5344', 'FT941-2603', 'FT941-6975', 'FR941110-2-00028', 'FT933-3753', 'LA031589-0126', 'FR940622-0-00010', 'FT921-4141', 'FT943-11366', 'FT934-2780', 'FT934-11756', 'FR940324-1-00067', 'FT931-7031', 'FBIS3-52628', 'FT923-12824', 'FT944-11881', 'LA123089-0088', 'FT921-15222', 'LA041590-0149', 'FT931-5410', 'LA110789-0114', 'FT944-11694', 'FT932-15705', 'LA040890-0136', 'FR940323-1-00014', 'FT933-11153', 'FT932-14603', 'FR940513-0-00070', 'FT923-10727', 'FT921-10673', 'FR941012-1-00005', 'FBIS3-52127', 'FR940323-1-00034', 'FR940907-2-00008', 'FT931-1706', 'FT931-2745', 'LA111990-0002', 'LA032589-0020', 'FT931-8118', 'FBIS3-26036', 'FT931-2749', 'FT933-1021', 'FT921-4113', 'FT911-2093', 'FR940810-1-00043', 'FT921-11253', 'FBIS3-26829', 'FR940912-0-00017', 'FT944-1213', 'LA042490-0141', 'FR940204-2-00122', 'FBIS3-36571', 'FT911-2983', 'FT923-10619', 'FR941116-0-00064', 'LA072490-0118', 'FT942-8156', 'LA061089-0041', 'FBIS3-26619', 'FT923-6310', 'FT932-9020', 'FR940303-0-00029', 'FT924-11967', 'FBIS3-61392', 'FT932-3008', 'FT934-5076', 'FT932-2292', 'FT932-5483', 'FR940630-0-00092', 'FR941011-0-00035', 'FT924-8833', 'FT923-11929', 'FT934-5855', 'FT942-9575', 'FR940407-1-00064', 'FT923-12454', 'FT944-11967', 'FT942-16693', 'LA092290-0168', 'FR940412-1-00046', 'FT922-7745', 'FT921-12589', 'FBIS4-22711', 'FR941007-1-00057', 'FT943-8025', 'FT921-4180', 'FR940526-2-00121', 'FBIS4-20351', 'FT923-14555', 'FT934-3652', 'FT943-13175', 'LA092690-0157', 'FT944-16892', 'FT934-7059', 'FT921-15103', 'FR940304-0-00051', 'FBIS4-19647', 'FR940526-2-00123', 'FBIS4-44426', 'LA122489-0068', 'FBIS3-19902', 'FBIS4-16133', 'LA043089-0101', 'LA041290-0220', 'FT923-6123', 'FT923-10610', 'FT931-14988', 'FT934-2128', 'FT921-14048', 'FR941011-0-00037', 'LA071590-0177', 'FT941-9565', 'FR940526-2-00128', 'FR941007-1-00171', 'FT921-90', 'FT924-5387', 'FBIS3-7502', 'FR940804-2-00155', 'FT934-5025', 'FT931-4378', 'FT921-1825', 'FBIS3-4240', 'FT924-9202', 'FR941021-0-00051', 'FR940112-0-00089', 'FR940831-2-00179', 'FT933-7381', 'FT931-6933', 'FT932-16769', 'FT921-12628', 'FT942-13308', 'FT932-2744', 'FR940630-0-00124', 'FT932-13605', 'LA103090-0124', 'FT923-9659', 'FR940630-0-00093', 'FT944-11494', 'LA062890-0077', 'FT923-11500', 'LA011689-0018', 'FR941130-0-00125', 'FR941216-1-00054', 'FR940831-2-00147', 'FT944-14449', 'FT944-13436', 'FT932-14104', 'FT941-13560', 'FT941-2471', 'FT932-6078', 'FT941-2084', 'FT921-16450', 'FT942-5395', 'FT942-7459', 'LA013090-0063', 'FR940112-0-00088', 'FBIS3-46002', 'FBIS3-46268', 'FT944-3024', 'FT933-5442', 'FR940112-0-00083', 'FT923-12667', 'FR940324-1-00072', 'FR940610-1-00041', 'FT944-10443', 'FT924-407', 'FR940526-2-00138', 'FT922-10555', 'FR940526-2-00140', 'FR940826-0-00110', 'FT921-249', 'FR941116-0-00057', 'FR941221-1-00012', 'FR940323-1-00048', 'FT942-11199', 'FT922-11141', 'FT924-13694', 'FT942-4518', 'FBIS4-47841', 'FR940725-0-00027', 'FBIS4-47125', 'FT934-10598', 'FR940112-2-00070', 'FT934-12276', 'FT922-5019', 'FT931-12181', 'FR940630-0-00103', 'FT933-7372', 'FT924-13003', 'LA103190-0091', 'FT944-9307', 'FT941-6598', 'LA052090-0020', 'LA010689-0123', 'FR940830-1-00115', 'FT941-10492', 'FT922-6685', 'FR940318-1-00030', 'FT944-6241', 'FR940317-1-00164', 'FT923-7602', 'FR940725-0-00038', 'FT921-13916', 'FR941006-0-00013', 'FT931-2290', 'FT934-12279', 'FT931-8545', 'FR940112-2-00081', 'LA043089-0242', 'FT932-16788', 'FR941130-0-00124', 'FT934-12522', 'FR940323-1-00023', 'FR940412-1-00047', 'FT921-542', 'FR940110-1-00053', 'FR941222-0-00125', 'FR941125-0-00013', 'FT931-8544', 'FT921-4016', 'FT944-14710', 'FR940527-2-00198', 'FT933-8561', 'FT921-4186', 'FT943-11509', 'FR940607-0-00065', 'FR941011-2-00034', 'LA101289-0200', 'FT932-13902', 'LA111589-0143', 'FT944-14595', 'FT933-13007', 'FBIS4-61853', 'FT941-13516', 'FBIS3-58957', 'FR941130-0-00092', 'FT944-14678', 'FT932-2206', 'FT944-18149', 'FT941-1339', 'LA042290-0155', 'FR940816-2-00127', 'FT933-12800', 'FT943-11511', 'FBIS4-55147', 'FT921-11758', 'FT943-13548', 'FT934-11545', 'FT941-3486', 'FT941-3116', 'FR940802-0-00056', 'FT921-11874', 'FT922-9069', 'FT923-11430', 'FT922-9652', 'FBIS3-59318', 'LA010690-0033', 'FR940920-1-00017', 'FT922-11763', 'FT922-3392', 'FT933-8402', 'FT921-3311', 'FR940727-0-00152', 'FR941221-0-00019', 'FT923-263', 'FT931-2783', 'FT941-3522', 'FT931-15948', 'FT911-3700', 'FR941007-1-00108', 'LA111390-0152', 'FR941007-1-00158', 'FT933-11641', 'FT933-12753', 'FT933-14861', 'FR940902-0-00121', 'FR941011-0-00033', 'FR940318-0-00065', 'FT941-12971', 'FT931-6872', 'FT924-11932', 'FT934-7189', 'FT922-11771', 'FT924-5023', 'FT924-8048', 'LA042590-0116', 'FBIS4-18077', 'FT943-7114', 'FT924-3734', 'FT944-1999', 'FT944-2212', 'FT944-13732', 'FT934-10168', 'FT942-17091', 'FT934-4589', 'FT943-2770', 'FT933-14535', 'FR941205-2-00153', 'FT931-3828', 'FT931-6894', 'FR940328-0-00014', 'FT934-4203', 'FT942-5390', 'FT932-10773', 'FT921-6855', 'FR941007-1-00083', 'FT942-8152', 'FT942-1760', 'FT932-4294', 'FT931-6882', 'FBIS3-20414', 'FT922-10615', 'FT941-11986', 'FR940928-2-00144', 'FT911-2989', 'FR940831-2-00178', 'FT942-16593', 'LA112890-0123', 'FT922-11988', 'FT923-5585', 'FBIS4-68433', 'FT923-8873', 'FBIS4-65102', 'FR941019-0-00030', 'FT934-2764', 'LA101790-0022', 'FT933-2402', 'FT931-11461', 'FBIS4-51345', 'LA041990-0238', 'LA062290-0178', 'FT921-13915', 'FT934-5132', 'LA010889-0057', 'FR941227-0-00058', 'FT931-2945', 'FT932-12433', 'FT942-15018', 'LA101489-0120', 'FT942-2625', 'FT941-7771', 'FR940711-1-00065', 'FT944-18433', 'FT944-2979', 'FT922-11581', 'LA060889-0051', 'FR941227-0-00046', 'LA110389-0004', 'FT943-13171', 'FT933-7773', 'FT931-15465', 'FR940706-2-00089', 'LA101890-0009', 'FR940406-2-00148', 'FR940317-1-00166', 'FT944-11486', 'FBIS4-20321', 'FR941227-0-00045', 'FR940318-2-00118', 'FBIS3-40865', 'FT933-7236', 'FBIS3-23979', 'FR940412-1-00037', 'FT941-12658', 'LA081290-0198', 'FR940722-1-00014', 'LA110190-0214', 'FBIS3-20592', 'FT931-8944', 'FT923-13406', 'FT931-13785', 'FR940902-0-00103', 'FBIS3-18378', 'FT924-6322', 'FT943-7710', 'FBIS3-39578', 'FR941222-0-00044', 'FR940902-1-00089', 'LA091590-0053', 'FT934-16907', 'FT931-11929', 'FT931-11940', 'FT922-9574', 'FT944-5357', 'FT933-6263', 'FR941013-2-00133', 'FT932-3992', 'FT923-9456', 'FR940110-1-00091', 'FR941206-2-00062', 'FT922-1739', 'FT943-5650', 'FR940711-0-00088', 'FT932-750', 'FT922-10486', 'FBIS4-27560', 'LA043089-0099', 'FR941227-0-00105', 'FR940803-0-00055', 'FT934-10301', 'FR940822-0-00040', 'FR940622-0-00014', 'FT922-9616', 'FT932-8930', 'FR941007-1-00134', 'LA092790-0008', 'LA070490-0095', 'LA062490-0047', 'FBIS3-19100', 'FR940323-1-00008', 'FR941019-0-00042', 'FR940526-2-00156', 'LA090990-0195', 'FT934-10155', 'FT933-14150', 'FR940526-2-00157', 'FT941-13919', 'LA100990-0120', 'FR940526-2-00158', 'FBIS4-65935']\n",
            "['LA031289-0081', 'LA021890-0170', 'FR940425-1-00018', 'LA060189-0075', 'LA051390-0200', 'FR941213-2-00084', 'FR940425-1-00021', 'FR940425-1-00022', 'FR941206-2-00132', 'LA081990-0134', 'LA081990-0097', 'FR940425-1-00019', 'LA010590-0193', 'LA011290-0042', 'LA042290-0216', 'LA082390-0252', 'LA012690-0008', 'LA081990-0087', 'LA081990-0189', 'LA080389-0097', 'FR940613-0-00068', 'LA081990-0222', 'FBIS4-21401', 'FT944-6739', 'FR940425-1-00023', 'LA011890-0043', 'FT924-3210', 'FT944-10817', 'FT943-14326', 'LA093090-0239', 'LA032389-0081', 'FT942-12757', 'LA070289-0106', 'FT942-9116', 'FT932-1577', 'FR940705-1-00027', 'FBIS4-21399', 'FT921-13618', 'LA052690-0069', 'FBIS3-21063', 'LA092890-0057', 'FBIS4-49406', 'FT934-817', 'FT941-13663', 'LA021989-0171', 'FT923-4028', 'FT923-8651', 'FR940425-1-00020', 'FT922-9153', 'FBIS4-25110', 'LA030290-0103', 'FT934-1165', 'LA060290-0083', 'FT911-2280', 'LA110190-0054', 'FT933-10479', 'LA080190-0067', 'FBIS3-40474', 'LA100490-0065', 'LA090690-0118', 'FT944-15305', 'FR941028-2-00034', 'LA081990-0220', 'FT924-4517', 'FT943-10865', 'LA072290-0050', 'FT944-12300', 'FR940705-2-00090', 'LA122189-0121', 'FR940628-1-00090', 'FR940106-0-00044', 'LA021190-0219', 'FBIS3-22358', 'FT934-13924', 'FBIS3-24465', 'FT924-8550', 'FT921-15852', 'LA041589-0032', 'FT941-13616', 'FT931-12871', 'LA071290-0157', 'FT923-8745', 'FT942-13513', 'FBIS3-26859', 'LA062190-0079', 'FR940926-1-00014', 'FT933-7856', 'FBIS4-21400', 'LA081990-0221', 'LA051290-0033', 'FT921-3687', 'LA052390-0129', 'FBIS4-45808', 'LA081290-0087', 'LA080290-0075', 'FR940803-0-00105', 'FT921-3524', 'FR940728-2-00142', 'FT942-15714', 'FT933-8032', 'FR941110-1-00079', 'LA042290-0129', 'FR941219-1-00025', 'FR940803-0-00118', 'FT932-9299', 'FBIS3-7227', 'FR940506-2-00082', 'LA020989-0114', 'LA092390-0109', 'LA041089-0033', 'FT933-11596', 'FBIS4-45799', 'FR940803-0-00126', 'LA072590-0022', 'LA071689-0103', 'FBIS3-26703', 'FR940803-0-00104', 'FBIS4-52831', 'FT923-9546', 'LA051689-0150', 'LA020990-0128', 'FR940920-1-00055', 'FBIS4-45796', 'LA111590-0201', 'FT934-380', 'LA043090-0081', 'FT934-15537', 'FT923-12524', 'FT934-16500', 'LA082290-0058', 'FT944-16746', 'FR941219-1-00024', 'LA011690-0032', 'LA120790-0053', 'FR940822-1-00029', 'FR940613-0-00119', 'LA100890-0050', 'FT941-1999', 'FBIS3-7695', 'FT922-8384', 'FBIS4-28900', 'LA041990-0026', 'FT922-4410', 'LA020489-0099', 'FR940803-0-00131', 'FT932-13311', 'LA082390-0172', 'FBIS4-27353', 'FT941-3465', 'LA091390-0178', 'FT933-15433', 'FT933-11795', 'LA080890-0015', 'LA051389-0050', 'FT942-8971', 'FR940803-0-00103', 'FT933-11703', 'FBIS3-21057', 'LA080690-0080', 'FT944-13686', 'LA061689-0056', 'FT931-17', 'FBIS3-22289', 'FBIS3-2468', 'LA050890-0014', 'FR940506-2-00084', 'LA082390-0019', 'LA040189-0018', 'LA111789-0119', 'FBIS3-59575', 'FT932-2374', 'FT932-17475', 'LA041790-0033', 'FBIS3-28275', 'LA050490-0087', 'FBIS3-60324', 'FT943-14248', 'FT922-5880', 'FT944-17970', 'FT933-16926', 'LA093090-0238', 'FR940919-0-00087', 'LA093090-0173', 'FBIS3-46825', 'LA061490-0132', 'FT924-14808', 'FBIS3-2093', 'FT921-8132', 'FBIS3-3443', 'LA012090-0014', 'FT944-4753', 'LA060489-0039', 'FT911-1586', 'FT941-4619', 'LA070690-0056', 'LA120189-0137', 'FR941222-0-00111', 'FBIS3-41638', 'FR940506-2-00074', 'FT924-11099', 'LA051089-0031', 'LA021989-0054', 'LA041290-0013', 'LA101489-0086', 'FR941028-2-00031', 'FT921-12783', 'LA060890-0141', 'LA120789-0133', 'FR941028-2-00033', 'LA093090-0122', 'FBIS3-59062', 'LA061189-0064', 'LA082489-0159', 'FT911-2279', 'FBIS3-44760', 'LA092189-0080', 'FT943-6321', 'LA100589-0091', 'FR941219-1-00029', 'LA011189-0041', 'FR940803-0-00117', 'LA060790-0032', 'FR940705-2-00095', 'FT932-11383', 'LA021390-0153', 'LA121489-0032', 'FR940803-0-00125', 'LA052290-0063', 'LA050990-0107', 'FBIS3-45518', 'FBIS4-20648', 'FT943-17026', 'LA032390-0113', 'LA072789-0178', 'FT924-8551', 'FR940705-2-00093', 'LA120890-0142', 'FT934-16129', 'LA080489-0074', 'LA031090-0137', 'FT942-1896', 'FT944-4752', 'LA062390-0131', 'LA081590-0081', 'FT932-2600', 'FT934-12836', 'LA031989-0167', 'LA051990-0119', 'LA042690-0028', 'FR940627-2-00015', 'FBIS3-40483', 'LA052690-0067', 'FT911-3323', 'LA030289-0008', 'FT941-10819', 'FBIS3-22350', 'LA113090-0065', 'LA061190-0094', 'FT944-6876', 'FBIS4-27388', 'LA110989-0149', 'FT923-4855', 'FBIS4-44721', 'FBIS4-67591', 'LA062590-0098', 'LA102589-0109', 'LA092990-0164', 'FBIS3-48009', 'FR940303-2-00168', 'FBIS4-44871', 'FT932-3983', 'FBIS3-4872', 'LA082190-0052', 'LA072590-0088', 'FBIS4-20675', 'LA042490-0104', 'FR940705-2-00091', 'FT932-19', 'FBIS4-49659', 'LA012590-0214', 'FR941031-2-00071', 'LA090289-0013', 'FR940916-1-00062', 'LA101190-0061', 'FT934-4610', 'LA012090-0064', 'FT944-6872', 'LA072490-0132', 'LA030990-0146', 'LA040689-0080', 'FT941-6348', 'FT923-13224', 'FT934-3261', 'FBIS4-20658', 'FT922-10896', 'FT934-14152', 'FBIS4-2192', 'LA112789-0087', 'LA091190-0137', 'FT943-11823', 'LA080590-0135', 'LA112990-0211', 'LA080990-0131', 'LA111389-0090', 'LA062189-0108', 'FR940425-1-00024', 'FBIS3-28272', 'LA032790-0053', 'LA022690-0051', 'LA021890-0063', 'LA032790-0029', 'FBIS4-45655', 'LA021790-0156', 'FT932-3979', 'FR941026-1-00011', 'LA112390-0117', 'FBIS4-26743', 'FBIS4-20689', 'LA072690-0036', 'FBIS3-6547', 'FR941031-2-00073', 'FT943-12818', 'LA081589-0008', 'FT932-3866', 'LA092990-0008', 'FR940803-0-00110', 'FT934-16581', 'LA122189-0080', 'LA052090-0094', 'FR941110-1-00091', 'FBIS4-53440', 'FBIS4-45923', 'LA120690-0223', 'FBIS4-21508', 'LA100190-0050', 'FR940412-1-00046', 'FT932-245', 'FBIS4-39417', 'FT922-5879', 'LA041590-0168', 'FBIS4-41418', 'FT944-13683', 'LA120189-0117', 'LA010190-0007', 'FT934-919', 'FT934-4348', 'FR940110-2-00014', 'FT923-4025', 'FR940902-2-00023', 'FT923-13018', 'FT922-12005', 'FBIS3-29762', 'LA042589-0120', 'FBIS3-40476', 'LA011490-0076', 'LA090690-0186', 'LA031390-0122', 'FT933-11577', 'LA082190-0128', 'FT933-14081', 'FBIS4-3582', 'FBIS3-40486', 'LA022389-0027', 'LA120590-0042', 'FR940506-2-00005', 'FT931-2838', 'FT921-14231', 'LA082690-0036', 'FBIS3-20466', 'LA070990-0016', 'LA071389-0010', 'FBIS4-66409', 'FBIS3-44647', 'FR940727-1-00037', 'FBIS3-55681', 'FR940506-2-00073', 'FT932-9690', 'FBIS4-3583', 'LA121790-0079', 'LA062890-0135', 'LA053090-0029', 'LA041890-0035', 'FBIS3-26069', 'FT924-9729', 'FT934-1809', 'LA100790-0162', 'FBIS4-54270', 'FBIS3-30035', 'FR941219-1-00027', 'LA051090-0052', 'LA123090-0059', 'FT923-10356', 'FR940705-2-00096', 'LA032790-0083', 'FBIS4-20660', 'FT921-182', 'LA053190-0081', 'LA031590-0139', 'FT924-6770', 'FT924-3208', 'LA062290-0009', 'LA041389-0149', 'FBIS4-20686', 'LA072790-0152', 'FR940613-0-00122', 'LA071690-0044', 'FBIS3-6436', 'FT924-14052', 'LA021490-0019', 'FR940414-1-00057', 'LA032590-0167', 'LA111390-0121', 'LA112290-0181', 'FR940628-1-00088', 'LA120190-0054', 'LA091290-0126', 'LA123189-0133', 'FT933-16043', 'FT931-14147', 'LA062590-0091', 'FBIS3-27943', 'FT944-15030', 'FBIS4-28899', 'FT921-2105', 'LA010390-0134', 'FT942-14231', 'FBIS3-5747', 'FR940819-0-00054', 'LA071990-0197', 'FBIS3-59654', 'FT934-14887', 'FR941227-2-00175', 'LA070490-0061', 'LA070890-0050', 'LA042690-0109', 'FBIS4-45797', 'FBIS3-59615', 'LA101690-0105', 'FBIS3-6403', 'FR940506-2-00065', 'FBIS4-52746', 'FT923-12274', 'FR940513-1-00067', 'FT941-17541', 'FR940527-2-00063', 'LA092590-0196', 'FBIS3-7228', 'LA092990-0083', 'FR940819-0-00057', 'FBIS4-22280', 'FBIS4-56362', 'FBIS4-54044', 'LA091590-0059', 'FBIS4-28776', 'LA071289-0051', 'FT943-10931', 'FBIS3-4878', 'FBIS3-47866', 'FR941013-1-00065', 'LA101889-0123', 'FR940920-1-00056', 'FBIS3-44544', 'FBIS4-27770', 'LA100689-0092', 'FR940803-0-00127', 'FBIS4-28544', 'FBIS4-28632', 'FT931-14481', 'LA112490-0140', 'LA121390-0222', 'LA070189-0005', 'FR940414-1-00052', 'LA072990-0056', 'FBIS3-20447', 'FBIS3-28956', 'FT923-9291', 'FT932-244', 'FT922-1090', 'FBIS3-6608', 'FR940819-0-00058', 'FR941122-2-00125', 'FT921-3525', 'FR941219-1-00028', 'FR940803-0-00106', 'LA122189-0087', 'FT941-14720', 'FT943-5121', 'FBIS4-24808', 'FBIS3-4642', 'FBIS3-47060', 'FBIS4-3752', 'FT944-15304', 'FT943-13206', 'FBIS4-19409', 'FR940803-0-00129', 'FR940831-2-00180', 'FR941026-1-00021', 'FR940803-0-00128', 'FR941031-2-00072', 'FT923-7302', 'FT931-8344', 'FR940812-2-00031', 'FR940317-1-00149', 'FT921-1789', 'FBIS3-59636', 'FR940803-0-00112', 'LA120990-0089', 'FT934-4995', 'FR940728-0-00059', 'FBIS4-51791', 'FT931-14149', 'LA112290-0095', 'FR941206-1-00079', 'FT923-11979', 'FBIS4-21477', 'FT942-14232', 'FT942-1099', 'FR940524-2-00035', 'LA122789-0049', 'LA052490-0187', 'FT921-13528', 'FBIS3-28270', 'FBIS3-21171', 'FR940922-1-00019', 'FT934-4881', 'FBIS4-52706', 'FBIS3-22254', 'FR940922-1-00018', 'FT934-12734', 'LA081590-0017', 'FR940728-0-00055', 'LA020790-0016', 'FT942-8961', 'FT911-804', 'FR940919-0-00088', 'FT941-16921', 'LA043089-0106', 'LA122289-0006', 'FBIS3-55410', 'FT942-1846', 'LA020890-0157', 'FR940727-1-00043', 'LA021290-0106', 'FBIS3-6439', 'LA030590-0061', 'LA011689-0066', 'FBIS4-24807', 'LA062190-0187', 'LA112890-0104', 'LA081090-0150', 'FR941011-0-00037', 'LA062790-0080', 'LA041190-0110', 'LA091690-0067', 'LA032589-0075', 'FBIS4-50871', 'LA083189-0123', 'FBIS4-58658', 'LA043089-0055', 'FT944-1604', 'FT944-18843', 'LA101990-0128', 'FBIS4-45787', 'FR940223-2-00037', 'FBIS4-9887', 'FBIS4-66450', 'FBIS4-39395', 'LA112990-0081', 'LA091290-0180', 'FT933-5110', 'FT934-12746', 'LA030989-0192', 'FBIS4-50054', 'FBIS4-67542', 'FT932-16172', 'FBIS3-27945', 'FR940919-0-00058', 'FR940505-1-00250', 'LA083089-0120', 'LA100889-0164', 'LA020790-0142', 'LA111390-0078', 'LA092090-0202', 'FR940727-1-00038', 'FBIS4-18238', 'FT943-6350', 'FT923-13374', 'FR940705-2-00089', 'LA090489-0007', 'FR940505-1-00275', 'FR940613-0-00121', 'FBIS3-29267', 'FT932-7870', 'FBIS3-21168', 'LA060189-0120', 'LA061590-0013', 'LA101289-0160', 'LA092090-0007', 'FT932-17393', 'FBIS4-51664', 'LA122090-0046', 'LA111190-0232', 'FT922-4610', 'LA012390-0135', 'FBIS4-29619', 'LA053090-0155', 'LA020690-0128', 'FBIS4-3834', 'LA101690-0185', 'LA091390-0140', 'FR940524-2-00032', 'LA101890-0175', 'FBIS3-21064', 'LA122890-0069', 'FBIS4-20535', 'FBIS3-3135', 'FT911-3956', 'LA091990-0046', 'LA041290-0041', 'LA032889-0065', 'FR940822-2-00049', 'FT922-9059', 'LA071990-0114', 'FT942-9121', 'LA061790-0186', 'FR940819-0-00053', 'FR941110-1-00112', 'LA040389-0100', 'FR940426-1-00090', 'FBIS4-9882', 'FBIS4-9943', 'LA071990-0233', 'LA071990-0159', 'FT922-1206', 'FT931-13693', 'LA102689-0217', 'LA050390-0003', 'FT934-2032', 'LA042789-0044', 'FT931-16657', 'LA090590-0120', 'LA111990-0006', 'FBIS3-59275', 'FBIS4-20541', 'FR940728-0-00058', 'FR940803-0-00111', 'FR940926-2-00094', 'LA060789-0114', 'FT931-7655', 'FT931-7837', 'FBIS3-5076', 'FT923-3539', 'LA060789-0150', 'LA021990-0062', 'FT933-12378', 'LA050390-0009', 'FT934-13811', 'FT931-7615', 'FBIS4-21396', 'FBIS4-45734', 'FBIS4-24820', 'FT922-2699', 'FBIS4-30595', 'FBIS4-68524', 'FT922-5883', 'FT931-477', 'LA122290-0144', 'FT934-17265', 'FT943-1153', 'LA123089-0054', 'FBIS3-59797', 'FT924-3494', 'FBIS4-34836', 'FBIS4-45511', 'LA100990-0093', 'LA102489-0006', 'FR940831-2-00052', 'FT931-10162', 'LA012990-0102', 'FBIS3-46633', 'FR940919-0-00116', 'FBIS4-4554', 'LA101090-0153', 'FT933-16465', 'LA041790-0040', 'FT944-16254', 'LA082390-0141', 'LA021189-0054', 'FBIS4-23050', 'FBIS4-25832', 'LA020390-0126', 'LA032890-0089', 'FBIS3-47316', 'LA091290-0071', 'FT941-7648', 'FT923-3108', 'FT934-10950', 'FR940819-0-00064', 'FBIS4-21484', 'LA120790-0023', 'FT933-9348', 'FBIS3-16157', 'FBIS3-51385', 'FBIS3-43801', 'FR940727-1-00044', 'LA080390-0036', 'FBIS3-23726', 'FR940106-1-00017', 'FBIS3-22838', 'LA061290-0009', 'LA040389-0020', 'FBIS4-20565', 'FBIS4-26198', 'FR940317-1-00144', 'LA040290-0108', 'LA121290-0138', 'LA102590-0062', 'LA070690-0141', 'FT924-4541', 'FBIS4-27321', 'FR940516-2-00094', 'LA051190-0003', 'LA041890-0133', 'FBIS3-22340', 'FBIS4-62643', 'FBIS3-48503', 'FT921-12325', 'FBIS3-21877', 'FT924-2260', 'FBIS4-67569', 'FBIS3-49192', 'LA120290-0001', 'FBIS4-44850', 'FBIS4-53614', 'FBIS3-48867', 'FT921-7495', 'FBIS3-22333', 'FBIS3-38014', 'LA071989-0116', 'FR940404-2-00148', 'FR940907-2-00044', 'FBIS4-40103', 'FBIS4-45612', 'LA040190-0243', 'LA060289-0110', 'FR941212-0-00142', 'FBIS4-54282', 'FBIS4-53441', 'FBIS4-45922', 'FBIS4-66255', 'LA070990-0097', 'FBIS4-20252', 'FBIS3-45877', 'FR940803-0-00121', 'FT941-4282', 'LA061190-0082', 'LA112990-0053', 'LA091290-0130', 'FR940728-0-00062', 'FBIS4-5611', 'LA091089-0140', 'FBIS4-54182', 'FBIS4-53516', 'FT934-15348', 'FBIS3-59712', 'FT934-15341', 'LA100590-0035', 'FBIS3-26830', 'FBIS3-26626', 'FT932-5837', 'FT933-12862', 'FT944-9844', 'FBIS4-20692', 'FBIS4-2153', 'LA082590-0116', 'LA062989-0089', 'FR940810-0-00074', 'FT932-4141', 'FR940810-0-00075', 'FT933-2958', 'FBIS4-38537', 'LA070289-0163', 'FT911-3927', 'LA111590-0163', 'FBIS3-26252', 'LA092690-0106', 'FR940613-0-00098', 'FR940919-0-00053', 'LA102989-0066', 'FR940106-0-00043', 'FBIS3-19597', 'FT923-438', 'FR940810-0-00078', 'FBIS3-61493', 'LA043089-0140', 'FBIS3-16204', 'FR940721-0-00082', 'FBIS4-53264', 'FBIS3-42072', 'FBIS3-28321', 'FBIS4-25958', 'FBIS3-29448', 'FR940919-0-00111', 'LA042089-0038', 'FBIS3-29682', 'FT944-9033', 'LA051689-0152', 'FBIS4-50095', 'LA030690-0177', 'LA041590-0153', 'FT923-13369', 'FT923-14234', 'FBIS4-67594', 'LA080689-0059', 'LA042389-0211', 'LA112990-0030', 'FR940106-1-00019', 'FR941222-1-00072', 'FR940803-0-00114', 'FBIS4-44896', 'LA110289-0060', 'FR940505-0-00024', 'FBIS4-51350', 'FBIS4-30583', 'LA111289-0027', 'FT922-5877', 'FT932-11317', 'FBIS4-45717', 'FT943-13250', 'FR941222-0-00088', 'FR940526-2-00149', 'FBIS3-29208', 'FR940803-0-00107', 'FBIS3-27944', 'LA030290-0141', 'LA083089-0074', 'FBIS3-60316', 'FT922-4417', 'FBIS3-47036', 'FR941110-1-00115', 'FR940526-2-00147', 'FT921-3947', 'FBIS3-21114', 'LA100290-0022', 'LA050290-0146', 'FR940526-2-00154', 'FR940412-1-00043', 'FT934-4992', 'FBIS4-53914', 'FBIS3-48008', 'FBIS3-42001', 'FT943-3437', 'LA091290-0009', 'FT934-3776', 'FR941005-2-00049', 'FBIS4-4411', 'FBIS3-56386', 'FT911-23', 'FT921-12717', 'FBIS4-32188', 'LA123190-0106', 'FR941212-0-00139', 'LA010689-0061', 'FBIS3-6613', 'FR941011-0-00057', 'LA012490-0078', 'FT921-2636', 'FBIS3-22777', 'FBIS3-21523', 'FT941-2390', 'LA010989-0014', 'LA012589-0014', 'FR941110-1-00114', 'FBIS4-49607', 'FBIS3-46932', 'LA091689-0066', 'FR940506-2-00072', 'FBIS4-53038', 'FT921-10706', 'FT942-15896', 'FBIS3-7224', 'FBIS3-47402', 'LA121789-0191', 'FT924-7121', 'FR940414-1-00044', 'FBIS3-59686', 'FR941130-0-00123', 'FT921-15851', 'FR941028-2-00032', 'FR941013-1-00063', 'FT932-11515', 'FBIS4-52686', 'FT932-8685', 'FT934-13549', 'FT932-692', 'FR940512-2-00052', 'LA032389-0050', 'LA100289-0016', 'FT934-4292', 'FBIS3-59768', 'FT933-1179', 'FR940803-0-00108', 'FT942-10596', 'LA040590-0067', 'FR940728-0-00057', 'LA122489-0158', 'LA080489-0022', 'FT943-10185', 'FBIS3-40477', 'FT944-2516', 'FT944-2619', 'FT924-3293', 'FR941117-0-00025', 'LA020289-0117', 'FR940721-2-00058', 'FR940127-2-00158', 'LA050789-0210', 'FR940127-2-00161', 'FT934-9592', 'FR940228-1-00044', 'FT943-7375', 'FR940106-0-00040', 'FR941222-1-00028', 'FT941-2979', 'LA010390-0007', 'FR940127-2-00167', 'FR940127-2-00164', 'FR940919-0-00094', 'LA050990-0074', 'LA090990-0137', 'LA072789-0101', 'FR940803-0-00123', 'LA100990-0037', 'FT933-3222', 'LA123089-0040', 'FR940721-2-00065', 'LA032490-0010', 'LA060989-0009', 'FBIS3-28726', 'FT922-6664', 'LA012789-0109', 'FT942-8960', 'FT944-15604', 'FBIS4-17401', 'LA041690-0056', 'FT911-2922', 'LA052990-0098', 'FBIS3-5680', 'FBIS4-66281', 'FR940721-0-00046', 'LA042290-0072', 'FT921-8087', 'FBIS3-22839', 'FBIS3-6323', 'LA061889-0180', 'FT932-10615', 'FBIS3-22249', 'LA080290-0079', 'FR940803-0-00116', 'FR940927-2-00092', 'FBIS4-39779', 'FT934-3335', 'LA011989-0054', 'FBIS4-41803', 'FT921-6713', 'LA061190-0084', 'FBIS3-5454', 'FR941230-1-00065', 'FT942-8016', 'LA082689-0018', 'FBIS4-2016', 'LA040889-0074', 'LA120490-0047', 'FR941013-1-00068', 'FT942-11815', 'FR940819-1-00061', 'FT922-4954', 'FBIS3-30128', 'FT931-10155', 'LA021590-0108', 'FR940826-0-00085', 'LA081889-0139', 'LA112590-0206', 'LA041890-0094', 'LA010189-0022', 'LA072489-0100', 'LA101489-0148', 'FBIS3-7079', 'FT922-5881', 'FT921-8189', 'FT921-14313', 'FBIS4-20664', 'FBIS4-42437', 'LA080289-0068', 'LA121390-0174', 'FBIS3-20923', 'LA022089-0023', 'LA121689-0046', 'LA122590-0061', 'FBIS3-21244']\n",
            "0.1130227895123554\n"
          ]
        }
      ]
    }
  ]
}