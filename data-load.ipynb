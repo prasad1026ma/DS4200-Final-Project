{
 "cells": [
  {
   "cell_type": "code",
   "execution_count": 18,
   "metadata": {},
   "outputs": [
    {
     "data": {
      "text/plain": [
       "31"
      ]
     },
     "execution_count": 18,
     "metadata": {},
     "output_type": "execute_result"
    }
   ],
   "source": [
    "import pandas as pd\n",
    "apple_csv = pd.read_csv('Apple.csv')\n",
    "amazon_csv = pd.read_csv('Amazon.csv')\n",
    "google_csv = pd.read_csv('Google.csv')\n",
    "micro_csv = pd.read_csv('Microsoft.csv')\n",
    "netflix_csv = pd.read_csv('Netflix.csv')\n",
    "\n",
    "apple_csv.columns = [f'Apple_{col}' if col != 'Date' else 'Date' for col in apple_csv.columns]\n",
    "amazon_csv.columns = [f'Amazon_{col}' if col != 'Date' else 'Date' for col in amazon_csv.columns]\n",
    "google_csv.columns = [f'Google_{col}' if col != 'Date' else 'Date' for col in google_csv.columns]\n",
    "micro_csv.columns = [f'Microsoft_{col}' if col != 'Date' else 'Date' for col in micro_csv.columns]\n",
    "netflix_csv.columns = [f'Netflix_{col}' if col != 'Date' else 'Date' for col in netflix_csv.columns]\n",
    "\n",
    "merged_df = apple_csv\n",
    "merged_df = pd.merge(merged_df, amazon_csv, on='Date', how='outer')\n",
    "merged_df = pd.merge(merged_df, google_csv, on='Date', how='outer')\n",
    "merged_df = pd.merge(merged_df, micro_csv, on='Date', how='outer')\n",
    "merged_df = pd.merge(merged_df, netflix_csv, on='Date', how='outer')\n",
    "\n",
    "len(merged_df.columns)\n",
    "\n"
   ]
  }
 ],
 "metadata": {
  "kernelspec": {
   "display_name": "Python 3",
   "language": "python",
   "name": "python3"
  },
  "language_info": {
   "codemirror_mode": {
    "name": "ipython",
    "version": 3
   },
   "file_extension": ".py",
   "mimetype": "text/x-python",
   "name": "python",
   "nbconvert_exporter": "python",
   "pygments_lexer": "ipython3",
   "version": "3.9.6"
  }
 },
 "nbformat": 4,
 "nbformat_minor": 2
}
